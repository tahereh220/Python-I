{
  "nbformat": 4,
  "nbformat_minor": 0,
  "metadata": {
    "colab": {
      "name": "class-01.ipynb",
      "provenance": [],
      "include_colab_link": true
    },
    "kernelspec": {
      "name": "python3",
      "display_name": "Python 3"
    },
    "language_info": {
      "name": "python"
    }
  },
  "cells": [
    {
      "cell_type": "markdown",
      "metadata": {
        "id": "view-in-github",
        "colab_type": "text"
      },
      "source": [
        "<a href=\"https://colab.research.google.com/github/tahereh220/Python-I-II/blob/main/class_01.ipynb\" target=\"_parent\"><img src=\"https://colab.research.google.com/assets/colab-badge.svg\" alt=\"Open In Colab\"/></a>"
      ]
    },
    {
      "cell_type": "markdown",
      "metadata": {
        "id": "JyG45Qk3qQLS"
      },
      "source": [
        "# Cells\n",
        "A notebook is a list of cells. Cells contain either explanatory text or executable code and its output. Click a cell to select it."
      ]
    },
    {
      "cell_type": "markdown",
      "metadata": {
        "id": "KR921S_OQSHG"
      },
      "source": [
        "## Code cells\n",
        "Below is a **code cell**. Once the toolbar button indicates CONNECTED, click in the cell to select it and execute the contents in the following ways:\n",
        "\n",
        "* Click the **Play icon** in the left gutter of the cell;\n",
        "* Type **Cmd/Ctrl+Enter** to run the cell in place;\n",
        "* Type **Shift+Enter** to run the cell and move focus to the next cell (adding one if none exists); or\n",
        "* Type **Alt+Enter** to run the cell and insert a new code cell immediately below it.\n",
        "\n",
        "There are additional options for running some or all cells in the **Runtime** menu.\n"
      ]
    },
    {
      "cell_type": "code",
      "execution_count": null,
      "metadata": {
        "cellView": "both",
        "id": "WUtu4316QSHL"
      },
      "outputs": [],
      "source": [
        "a = 10\n",
        "a\n",
        "help()"
      ]
    },
    {
      "cell_type": "markdown",
      "metadata": {
        "id": "Id6tDF1HQSHD"
      },
      "source": [
        "## Text cells\n",
        "This is a **text cell**. You can **double-click** to edit this cell. Text cells\n",
        "use markdown syntax. To learn more, see our [markdown\n",
        "guide](/notebooks/markdown_guide.ipynb).\n",
        "\n",
        "You can also add math to text cells using [LaTeX](http://www.latex-project.org/)\n",
        "to be rendered by [MathJax](https://www.mathjax.org). Just place the statement\n",
        "within a pair of **\\$** signs. For example `$\\sqrt{3x-1}+(1+x)^2$` becomes\n",
        "$\\sqrt{3x-1}+(1+x)^2.$\n"
      ]
    },
    {
      "cell_type": "markdown",
      "metadata": {
        "id": "R_J2bPrMWspS"
      },
      "source": [
        "##Creating a Comment\n",
        "Comments starts with a #, and Python will ignore them:"
      ]
    },
    {
      "cell_type": "code",
      "execution_count": null,
      "metadata": {
        "cellView": "both",
        "id": "5t5ThvzrWxDf"
      },
      "outputs": [],
      "source": [
        "#This is a comment\n",
        "print(\"Hello, World!\")"
      ]
    },
    {
      "cell_type": "markdown",
      "metadata": {
        "id": "U7y61Mz2X_1Z"
      },
      "source": [
        "##Python Data Types\n",
        "Variables can store data of different types.\n",
        "Python has the following data types built-in by default, in these categories:\n",
        "\n",
        "*   Text Type: **str**\n",
        "*   Numeric Types: **int, float, complex**\n",
        "*   Boolean Type: **bool**\n",
        "*   Sequence Types: **list, tuple, range**\n",
        "*   Mapping Type: **dict**\n",
        "*   Set Types: **set, frozenset**\n",
        "*   Binary Types: **bytes, bytearray, memoryview**\n",
        "\n",
        "\n"
      ]
    },
    {
      "cell_type": "code",
      "execution_count": null,
      "metadata": {
        "cellView": "both",
        "id": "F-9zGwSgX_1g"
      },
      "outputs": [],
      "source": [
        "print(\"type(´Hi´) : \", type(\"Hi!\"))\n",
        "print(\"type(5) : \", type(5))\n",
        "print(\"type(5.3) : \", type(5.3))\n",
        "print(\"type(5j) : \", type(5j))\n",
        "print(\"type(True) : \", type(True))"
      ]
    },
    {
      "cell_type": "markdown",
      "metadata": {
        "id": "XfyU6xz0bA6q"
      },
      "source": [
        "##Python Data Types\n",
        "Variables can store data of different types.\n",
        "Python has the following data types built-in by default, in these categories:\n",
        "\n",
        "*   Text Type: **str**\n",
        "*   Numeric Types: **int, float, complex**\n",
        "*   Boolean Type: **bool**\n",
        "*   Sequence Types: **list, tuple, range**\n",
        "*   Mapping Type: **dict**\n",
        "*   Set Types: **set, frozenset**\n",
        "*   Binary Types: **bytes, bytearray, memoryview**\n",
        "\n",
        "\n"
      ]
    },
    {
      "cell_type": "code",
      "execution_count": null,
      "metadata": {
        "cellView": "both",
        "id": "KygmTajkbA6y"
      },
      "outputs": [],
      "source": [
        "print(\"type(´Hi´) : \", type(\"Hi!\"))\n",
        "print(\"type(5) : \", type(5))\n",
        "print(\"type(5.3) : \", type(5.3))\n",
        "print(\"type(5j) : \", type(5j))\n",
        "print(\"type(True) : \", type(True))"
      ]
    }
  ]
}