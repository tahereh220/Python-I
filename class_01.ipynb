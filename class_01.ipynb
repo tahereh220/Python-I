{
  "nbformat": 4,
  "nbformat_minor": 0,
  "metadata": {
    "colab": {
      "name": "class-01.ipynb",
      "provenance": [],
      "include_colab_link": true
    },
    "kernelspec": {
      "name": "python3",
      "display_name": "Python 3"
    },
    "language_info": {
      "name": "python"
    }
  },
  "cells": [
    {
      "cell_type": "markdown",
      "metadata": {
        "id": "view-in-github",
        "colab_type": "text"
      },
      "source": [
        "<a href=\"https://colab.research.google.com/github/tahereh220/Python-I-II/blob/main/class_01.ipynb\" target=\"_parent\"><img src=\"https://colab.research.google.com/assets/colab-badge.svg\" alt=\"Open In Colab\"/></a>"
      ]
    },
    {
      "cell_type": "markdown",
      "metadata": {
        "id": "JyG45Qk3qQLS"
      },
      "source": [
        "# Cells\n",
        "A notebook is a list of cells. Cells contain either explanatory text or executable code and its output. Click a cell to select it."
      ]
    },
    {
      "cell_type": "markdown",
      "metadata": {
        "id": "KR921S_OQSHG"
      },
      "source": [
        "## Code cells\n",
        "Below is a **code cell**. Once the toolbar button indicates CONNECTED, click in the cell to select it and execute the contents in the following ways:\n",
        "\n",
        "* Click the **Play icon** in the left gutter of the cell;\n",
        "* Type **Cmd/Ctrl+Enter** to run the cell in place;\n",
        "* Type **Shift+Enter** to run the cell and move focus to the next cell (adding one if none exists); or\n",
        "* Type **Alt+Enter** to run the cell and insert a new code cell immediately below it.\n",
        "\n",
        "There are additional options for running some or all cells in the **Runtime** menu.\n"
      ]
    },
    {
      "cell_type": "code",
      "execution_count": 13,
      "metadata": {
        "cellView": "both",
        "id": "WUtu4316QSHL",
        "colab": {
          "base_uri": "https://localhost:8080/"
        },
        "outputId": "f356b389-a479-44c9-a4b6-723e71889cfd"
      },
      "outputs": [
        {
          "output_type": "execute_result",
          "data": {
            "text/plain": [
              "10"
            ]
          },
          "metadata": {},
          "execution_count": 13
        }
      ],
      "source": [
        "a = 10\n",
        "a"
      ]
    },
    {
      "cell_type": "markdown",
      "metadata": {
        "id": "Id6tDF1HQSHD"
      },
      "source": [
        "## Text cells\n",
        "This is a **text cell**. You can **double-click** to edit this cell. Text cells\n",
        "use markdown syntax. To learn more, see our [markdown\n",
        "guide](/notebooks/markdown_guide.ipynb).\n",
        "\n",
        "You can also add math to text cells using [LaTeX](http://www.latex-project.org/)\n",
        "to be rendered by [MathJax](https://www.mathjax.org). Just place the statement\n",
        "within a pair of **\\$** signs. For example `$\\sqrt{3x-1}+(1+x)^2$` becomes\n",
        "$\\sqrt{3x-1}+(1+x)^2.$\n"
      ]
    },
    {
      "cell_type": "markdown",
      "metadata": {
        "id": "R_J2bPrMWspS"
      },
      "source": [
        "##Creating a Comment\n",
        "Comments starts with a #, and Python will ignore them:"
      ]
    },
    {
      "cell_type": "code",
      "execution_count": 23,
      "metadata": {
        "cellView": "both",
        "id": "5t5ThvzrWxDf",
        "colab": {
          "base_uri": "https://localhost:8080/"
        },
        "outputId": "55b01a75-f41b-40f4-f745-54229fdae72a"
      },
      "outputs": [
        {
          "output_type": "stream",
          "name": "stdout",
          "text": [
            "Hello, World!\n"
          ]
        }
      ],
      "source": [
        "#This is a comment\n",
        "print(\"Hello, World!\")"
      ]
    },
    {
      "cell_type": "markdown",
      "metadata": {
        "id": "U7y61Mz2X_1Z"
      },
      "source": [
        "##Python Data Types\n",
        "Variables can store data of different types.\n",
        "Python has the following data types built-in by default, in these categories:\n",
        "\n",
        "*   Text Type: **str**\n",
        "\n",
        ">\\n : Line change.\n",
        ">\n",
        ">\\t : Tab.\n",
        ">\n",
        ">\\\\ : Backslash character.\n",
        ">\n",
        ">\\r : Carriage return.\n",
        ">\n",
        ">\\a : Bell.\n",
        ">\n",
        ">\\b : Back space.\n",
        "\n",
        "\n",
        "*   Numeric Types: **int, float, complex**\n",
        "*   Boolean Type: **bool**\n",
        "*   Sequence Types: **list, tuple, range**\n",
        "*   Mapping Type: **dict**\n",
        "*   Set Types: **set, frozenset**\n",
        "*   Binary Types: **bytes, bytearray, memoryview**\n",
        "\n",
        "\n"
      ]
    },
    {
      "cell_type": "code",
      "execution_count": 15,
      "metadata": {
        "cellView": "both",
        "colab": {
          "base_uri": "https://localhost:8080/"
        },
        "id": "F-9zGwSgX_1g",
        "outputId": "89472b13-2dff-4deb-91fd-79ec18303fba"
      },
      "outputs": [
        {
          "output_type": "stream",
          "name": "stdout",
          "text": [
            "type(´Hi´) :  <class 'str'>\n",
            "type(5) :  <class 'int'>\n",
            "type(5.3) :  <class 'float'>\n",
            "type(5j) :  <class 'complex'>\n",
            "type(True) :  <class 'bool'>\n",
            "type(False) :  <class 'bool'>\n"
          ]
        }
      ],
      "source": [
        "print(\"type(´Hi´) : \", type(\"Hi!\"))\n",
        "print(\"type(5) : \", type(5))\n",
        "print(\"type(5.3) : \", type(5.3))\n",
        "print(\"type(5j) : \", type(5j))\n",
        "print(\"type(True) : \", type(True))\n",
        "print(\"type(False) : \", type(False))"
      ]
    },
    {
      "cell_type": "code",
      "source": [
        "print(\"He said:\\n'Python is very easy'\")"
      ],
      "metadata": {
        "colab": {
          "base_uri": "https://localhost:8080/"
        },
        "id": "YmIVfoT85HEO",
        "outputId": "c56e5bf4-040b-4d99-c638-f0796fd53aea"
      },
      "execution_count": 16,
      "outputs": [
        {
          "output_type": "stream",
          "name": "stdout",
          "text": [
            "He said:\n",
            "'Python is very easy'\n"
          ]
        }
      ]
    },
    {
      "cell_type": "code",
      "source": [
        "print('He said, \"Python is very easy\"')"
      ],
      "metadata": {
        "colab": {
          "base_uri": "https://localhost:8080/"
        },
        "id": "C03qYe3K5g7Z",
        "outputId": "62b3886b-3c22-4b4e-c8aa-cb9bde44a85b"
      },
      "execution_count": 17,
      "outputs": [
        {
          "output_type": "stream",
          "name": "stdout",
          "text": [
            "He said, \"Python is very easy\"\n"
          ]
        }
      ]
    },
    {
      "cell_type": "code",
      "source": [
        "print(3 + 6)"
      ],
      "metadata": {
        "id": "nF5O8DRqhrGW",
        "colab": {
          "base_uri": "https://localhost:8080/"
        },
        "outputId": "baccb0aa-0d7c-47de-c697-894b3103c08c"
      },
      "execution_count": 18,
      "outputs": [
        {
          "output_type": "stream",
          "name": "stdout",
          "text": [
            "9\n"
          ]
        }
      ]
    },
    {
      "cell_type": "code",
      "source": [
        "print(6 + 7.0)"
      ],
      "metadata": {
        "id": "DHRo3TiFhv76",
        "outputId": "7f5589fd-5929-41cc-d73e-bd4c96dd6849",
        "colab": {
          "base_uri": "https://localhost:8080/"
        }
      },
      "execution_count": 19,
      "outputs": [
        {
          "output_type": "stream",
          "name": "stdout",
          "text": [
            "13.0\n"
          ]
        }
      ]
    },
    {
      "cell_type": "code",
      "source": [
        "print(4 * 7)"
      ],
      "metadata": {
        "id": "met61koch37f",
        "outputId": "a6460d35-1a11-4532-8be1-4d8a08ac0508",
        "colab": {
          "base_uri": "https://localhost:8080/"
        }
      },
      "execution_count": 20,
      "outputs": [
        {
          "output_type": "stream",
          "name": "stdout",
          "text": [
            "28\n"
          ]
        }
      ]
    },
    {
      "cell_type": "code",
      "source": [
        "print(49 / 7)  # division always returns float"
      ],
      "metadata": {
        "id": "CwCC6uTaiDS0",
        "outputId": "cabe9d2f-febf-495e-8d37-6dfcd9d15a41",
        "colab": {
          "base_uri": "https://localhost:8080/"
        }
      },
      "execution_count": 21,
      "outputs": [
        {
          "output_type": "stream",
          "name": "stdout",
          "text": [
            "7.0\n"
          ]
        }
      ]
    },
    {
      "cell_type": "markdown",
      "metadata": {
        "id": "XfyU6xz0bA6q"
      },
      "source": [
        "##Python Arithmetic Operators\n",
        " \\+ : Addition\t\n",
        "> x + y\n",
        "\n",
        "\\- : Subtraction\n",
        "> x - y\t\n",
        "\n",
        "\\* : Multiplication\n",
        "> x * y\n",
        "\n",
        "/ : Division\n",
        "> x / y\t\n",
        "\n",
        "\\% : Modulus\n",
        "> x % y\t\n",
        "\n",
        "\\** : Exponentiation\n",
        "> x ** y\t\n",
        "\n",
        "\\// : Floor division\n",
        "> x // y\n"
      ]
    },
    {
      "cell_type": "code",
      "execution_count": 25,
      "metadata": {
        "cellView": "both",
        "id": "KygmTajkbA6y",
        "colab": {
          "base_uri": "https://localhost:8080/"
        },
        "outputId": "eb537fc1-f9a5-476e-def2-190e8191a67b"
      },
      "outputs": [
        {
          "output_type": "execute_result",
          "data": {
            "text/plain": [
              "9"
            ]
          },
          "metadata": {},
          "execution_count": 25
        }
      ],
      "source": [
        "3 ** 2"
      ]
    },
    {
      "cell_type": "code",
      "source": [
        "9 ** 0.5"
      ],
      "metadata": {
        "colab": {
          "base_uri": "https://localhost:8080/"
        },
        "id": "rq2TTe-u95LH",
        "outputId": "4a1edf92-8217-4a3a-8c9c-ad45fc32061b"
      },
      "execution_count": 39,
      "outputs": [
        {
          "output_type": "execute_result",
          "data": {
            "text/plain": [
              "3.0"
            ]
          },
          "metadata": {},
          "execution_count": 39
        }
      ]
    },
    {
      "cell_type": "code",
      "source": [
        "9 ** (-1)"
      ],
      "metadata": {
        "colab": {
          "base_uri": "https://localhost:8080/"
        },
        "id": "mBObWa5d-4XJ",
        "outputId": "38ae6578-5c6d-4844-ae2b-954f7939903a"
      },
      "execution_count": 43,
      "outputs": [
        {
          "output_type": "execute_result",
          "data": {
            "text/plain": [
              "0.1111111111111111"
            ]
          },
          "metadata": {},
          "execution_count": 43
        }
      ]
    },
    {
      "cell_type": "code",
      "source": [
        "69 / 2"
      ],
      "metadata": {
        "colab": {
          "base_uri": "https://localhost:8080/"
        },
        "id": "pzq8700g97II",
        "outputId": "0d1b4a95-02c2-4682-f70f-fbedcfc45510"
      },
      "execution_count": 37,
      "outputs": [
        {
          "output_type": "execute_result",
          "data": {
            "text/plain": [
              "34.5"
            ]
          },
          "metadata": {},
          "execution_count": 37
        }
      ]
    },
    {
      "cell_type": "code",
      "source": [
        "69 // 2"
      ],
      "metadata": {
        "colab": {
          "base_uri": "https://localhost:8080/"
        },
        "id": "qA8lHVJi-TE8",
        "outputId": "ff7133ed-d6ca-4ff2-b1d1-f2abdf4b7677"
      },
      "execution_count": 35,
      "outputs": [
        {
          "output_type": "execute_result",
          "data": {
            "text/plain": [
              "34"
            ]
          },
          "metadata": {},
          "execution_count": 35
        }
      ]
    },
    {
      "cell_type": "code",
      "source": [
        "69 % 2"
      ],
      "metadata": {
        "colab": {
          "base_uri": "https://localhost:8080/"
        },
        "id": "3rCVNReE-C8K",
        "outputId": "fdc84c62-cfa4-4cf0-9c03-088bf26242fd"
      },
      "execution_count": 38,
      "outputs": [
        {
          "output_type": "execute_result",
          "data": {
            "text/plain": [
              "1"
            ]
          },
          "metadata": {},
          "execution_count": 38
        }
      ]
    },
    {
      "cell_type": "markdown",
      "source": [
        "##Python string Concatenation (+) and Repetition (*)"
      ],
      "metadata": {
        "id": "63Nv4Pud_roJ"
      }
    },
    {
      "cell_type": "code",
      "source": [
        "str1 = 'First string, '\n",
        "str2 = 'Second string.'\n",
        "str1 + str2"
      ],
      "metadata": {
        "colab": {
          "base_uri": "https://localhost:8080/",
          "height": 35
        },
        "id": "bHaUgKxfCB3E",
        "outputId": "548bd17d-380a-476a-a3e1-a10b753d5081"
      },
      "execution_count": 46,
      "outputs": [
        {
          "output_type": "execute_result",
          "data": {
            "application/vnd.google.colaboratory.intrinsic+json": {
              "type": "string"
            },
            "text/plain": [
              "'First string, Second string.'"
            ]
          },
          "metadata": {},
          "execution_count": 46
        }
      ]
    },
    {
      "cell_type": "code",
      "source": [
        "str = 'Python '\n",
        "str * 3"
      ],
      "metadata": {
        "id": "2ykPN3zWCF1q",
        "outputId": "cb09a458-bf04-4bcd-8be0-37f80a321fcb",
        "colab": {
          "base_uri": "https://localhost:8080/",
          "height": 35
        }
      },
      "execution_count": 48,
      "outputs": [
        {
          "output_type": "execute_result",
          "data": {
            "application/vnd.google.colaboratory.intrinsic+json": {
              "type": "string"
            },
            "text/plain": [
              "'Python Python Python '"
            ]
          },
          "metadata": {},
          "execution_count": 48
        }
      ]
    },
    {
      "cell_type": "markdown",
      "source": [
        "##Python string Indexing and Slicing:\n",
        "\n",
        "* In Python, indices start from 0. So, the first character corresponds to the index 0!\n",
        "* Negative index means position from the end; index -1 corresponds to the last character. \n",
        "* An index range a:b includes a and excludes b.\n"
      ],
      "metadata": {
        "id": "ggRUWuFsCfJG"
      }
    },
    {
      "cell_type": "code",
      "source": [
        "str = 'Life is too short, You need Python!'\n",
        "str[0]"
      ],
      "metadata": {
        "id": "JFpqGZlkC6Dz",
        "outputId": "194e166a-0a9d-472b-fbcf-04524de10a5d",
        "colab": {
          "base_uri": "https://localhost:8080/",
          "height": 35
        }
      },
      "execution_count": 50,
      "outputs": [
        {
          "output_type": "execute_result",
          "data": {
            "application/vnd.google.colaboratory.intrinsic+json": {
              "type": "string"
            },
            "text/plain": [
              "'L'"
            ]
          },
          "metadata": {},
          "execution_count": 50
        }
      ]
    },
    {
      "cell_type": "code",
      "source": [
        "str[3]"
      ],
      "metadata": {
        "id": "zscwUW0ODLFj",
        "outputId": "a94c95a8-6536-427f-b567-bf360b26e27b",
        "colab": {
          "base_uri": "https://localhost:8080/",
          "height": 35
        }
      },
      "execution_count": 51,
      "outputs": [
        {
          "output_type": "execute_result",
          "data": {
            "application/vnd.google.colaboratory.intrinsic+json": {
              "type": "string"
            },
            "text/plain": [
              "'e'"
            ]
          },
          "metadata": {},
          "execution_count": 51
        }
      ]
    },
    {
      "cell_type": "code",
      "source": [
        "str[-1]"
      ],
      "metadata": {
        "id": "pezDWtvLDObL",
        "outputId": "a47ecbef-7ca8-4072-a819-04c152f0a347",
        "colab": {
          "base_uri": "https://localhost:8080/",
          "height": 35
        }
      },
      "execution_count": 53,
      "outputs": [
        {
          "output_type": "execute_result",
          "data": {
            "application/vnd.google.colaboratory.intrinsic+json": {
              "type": "string"
            },
            "text/plain": [
              "'!'"
            ]
          },
          "metadata": {},
          "execution_count": 53
        }
      ]
    },
    {
      "cell_type": "code",
      "source": [
        "str[0:4]"
      ],
      "metadata": {
        "id": "K22eHlMCDdW7",
        "outputId": "6317ce9c-342e-40d8-d746-9757fbb1d3fa",
        "colab": {
          "base_uri": "https://localhost:8080/",
          "height": 35
        }
      },
      "execution_count": 54,
      "outputs": [
        {
          "output_type": "execute_result",
          "data": {
            "application/vnd.google.colaboratory.intrinsic+json": {
              "type": "string"
            },
            "text/plain": [
              "'Life'"
            ]
          },
          "metadata": {},
          "execution_count": 54
        }
      ]
    },
    {
      "cell_type": "code",
      "source": [
        "str[:17]"
      ],
      "metadata": {
        "id": "bJ1Y7MlKDirq",
        "outputId": "ba7fa42d-4019-4c22-ce17-4abe06a3c08a",
        "colab": {
          "base_uri": "https://localhost:8080/",
          "height": 35
        }
      },
      "execution_count": 55,
      "outputs": [
        {
          "output_type": "execute_result",
          "data": {
            "application/vnd.google.colaboratory.intrinsic+json": {
              "type": "string"
            },
            "text/plain": [
              "'Life is too short'"
            ]
          },
          "metadata": {},
          "execution_count": 55
        }
      ]
    },
    {
      "cell_type": "code",
      "source": [
        "str[19:]"
      ],
      "metadata": {
        "id": "pb2f00jyDmRC",
        "outputId": "68de5d02-a3c3-4958-9127-88981b53f100",
        "colab": {
          "base_uri": "https://localhost:8080/",
          "height": 35
        }
      },
      "execution_count": 56,
      "outputs": [
        {
          "output_type": "execute_result",
          "data": {
            "application/vnd.google.colaboratory.intrinsic+json": {
              "type": "string"
            },
            "text/plain": [
              "'You need Python!'"
            ]
          },
          "metadata": {},
          "execution_count": 56
        }
      ]
    },
    {
      "cell_type": "code",
      "source": [
        ""
      ],
      "metadata": {
        "id": "PV77-9YLDqvt"
      },
      "execution_count": null,
      "outputs": []
    },
    {
      "cell_type": "markdown",
      "source": [
        "\n",
        "##Some of the useful Python string methods:\n",
        "\n",
        "* **x.lstrip()**\tTrim left white spaces.\n",
        "* **x.rstrip()** : Trim right white spaces.\n",
        "* **x.strip()** : Trim white spaces from both sides.\n",
        "* **x.replace(str1, str2)** : Replace string from str1 to str2.\n",
        "* **x.count(str)** : Count the string pattern.\n",
        "* **x.find(str)** : Position of  the first match. -1 if no match is found.\n",
        "* **x.index(str)** : Position of the first match. Error if no match is found.\n",
        "* **x.join(str_list)** : Join the string list items using x as connector.\n",
        "* **x.split(y)** : Split a string by y.\n",
        "* **x.upper()** : Convert to the upper case.\n",
        "* **x.lower()** : Convert to the lower case.\n",
        "* **len(x)** : String length. This is not a string method but a built-in Python function.\n"
      ],
      "metadata": {
        "id": "qH_uI6jcB-8n"
      }
    },
    {
      "cell_type": "code",
      "source": [
        "x = 'Python'\n",
        "len(x)\t\t\t\t# String length. This is a Python built-in function.\n"
      ],
      "metadata": {
        "colab": {
          "base_uri": "https://localhost:8080/"
        },
        "id": "Zdp1XvQv-Kvc",
        "outputId": "9c6e5fcb-b626-4267-8914-ba0350a67cee"
      },
      "execution_count": 58,
      "outputs": [
        {
          "output_type": "execute_result",
          "data": {
            "text/plain": [
              "6"
            ]
          },
          "metadata": {},
          "execution_count": 58
        }
      ]
    },
    {
      "cell_type": "code",
      "source": [
        ""
      ],
      "metadata": {
        "id": "AwEVtxEiEzyc"
      },
      "execution_count": null,
      "outputs": []
    }
  ]
}