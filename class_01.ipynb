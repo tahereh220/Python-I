{
  "nbformat": 4,
  "nbformat_minor": 0,
  "metadata": {
    "colab": {
      "name": "class-01.ipynb",
      "provenance": [],
      "include_colab_link": true
    },
    "kernelspec": {
      "name": "python3",
      "display_name": "Python 3"
    },
    "language_info": {
      "name": "python"
    }
  },
  "cells": [
    {
      "cell_type": "markdown",
      "metadata": {
        "id": "view-in-github",
        "colab_type": "text"
      },
      "source": [
        "<a href=\"https://colab.research.google.com/github/tahereh220/Python-I-II/blob/main/class_01.ipynb\" target=\"_parent\"><img src=\"https://colab.research.google.com/assets/colab-badge.svg\" alt=\"Open In Colab\"/></a>"
      ]
    },
    {
      "cell_type": "markdown",
      "metadata": {
        "id": "JyG45Qk3qQLS"
      },
      "source": [
        "# Cells\n",
        "A notebook is a list of cells. Cells contain either explanatory text or executable code and its output. Click a cell to select it."
      ]
    },
    {
      "cell_type": "markdown",
      "metadata": {
        "id": "KR921S_OQSHG"
      },
      "source": [
        "## Code cells\n",
        "Below is a **code cell**. Once the toolbar button indicates CONNECTED, click in the cell to select it and execute the contents in the following ways:\n",
        "\n",
        "* Click the **Play icon** in the left gutter of the cell;\n",
        "* Type **Cmd/Ctrl+Enter** to run the cell in place;\n",
        "* Type **Shift+Enter** to run the cell and move focus to the next cell (adding one if none exists); or\n",
        "* Type **Alt+Enter** to run the cell and insert a new code cell immediately below it.\n",
        "\n",
        "There are additional options for running some or all cells in the **Runtime** menu.\n"
      ]
    },
    {
      "cell_type": "code",
      "execution_count": 13,
      "metadata": {
        "cellView": "both",
        "id": "WUtu4316QSHL",
        "colab": {
          "base_uri": "https://localhost:8080/"
        },
        "outputId": "f356b389-a479-44c9-a4b6-723e71889cfd"
      },
      "outputs": [
        {
          "output_type": "execute_result",
          "data": {
            "text/plain": [
              "10"
            ]
          },
          "metadata": {},
          "execution_count": 13
        }
      ],
      "source": [
        "a = 10\n",
        "a"
      ]
    },
    {
      "cell_type": "markdown",
      "metadata": {
        "id": "Id6tDF1HQSHD"
      },
      "source": [
        "## Text cells\n",
        "This is a **text cell**. You can **double-click** to edit this cell. Text cells\n",
        "use markdown syntax. To learn more, see our [markdown\n",
        "guide](/notebooks/markdown_guide.ipynb).\n",
        "\n",
        "You can also add math to text cells using [LaTeX](http://www.latex-project.org/)\n",
        "to be rendered by [MathJax](https://www.mathjax.org). Just place the statement\n",
        "within a pair of **\\$** signs. For example `$\\sqrt{3x-1}+(1+x)^2$` becomes\n",
        "$\\sqrt{3x-1}+(1+x)^2.$\n"
      ]
    },
    {
      "cell_type": "markdown",
      "metadata": {
        "id": "R_J2bPrMWspS"
      },
      "source": [
        "##Creating a Comment\n",
        "Comments starts with a #, and Python will ignore them:"
      ]
    },
    {
      "cell_type": "code",
      "execution_count": 23,
      "metadata": {
        "cellView": "both",
        "id": "5t5ThvzrWxDf",
        "colab": {
          "base_uri": "https://localhost:8080/"
        },
        "outputId": "55b01a75-f41b-40f4-f745-54229fdae72a"
      },
      "outputs": [
        {
          "output_type": "stream",
          "name": "stdout",
          "text": [
            "Hello, World!\n"
          ]
        }
      ],
      "source": [
        "#This is a comment\n",
        "print(\"Hello, World!\")"
      ]
    },
    {
      "cell_type": "markdown",
      "metadata": {
        "id": "U7y61Mz2X_1Z"
      },
      "source": [
        "##Python Data Types\n",
        "Variables can store data of different types.\n",
        "Python has the following data types built-in by default, in these categories:\n",
        "\n",
        "*   Text Type: **str**\n",
        "\n",
        ">>\\n : Line change.\n",
        ">>\n",
        ">>\\t : Tab.\n",
        ">>\n",
        ">>\\\\ : Backslash character.\n",
        ">>\n",
        ">>r : Carriage return.\n",
        ">>\n",
        ">>\\a : Bell.\n",
        ">>\n",
        ">>\\b : Back space.\n",
        "\n",
        "\n",
        "*   Numeric Types: **int, float, complex**\n",
        "*   Boolean Type: **bool**\n",
        "*   Sequence Types: **list, tuple, range**\n",
        "*   Mapping Type: **dict**\n",
        "*   Set Types: **set, frozenset**\n"
      ]
    },
    {
      "cell_type": "code",
      "execution_count": 122,
      "metadata": {
        "cellView": "both",
        "colab": {
          "base_uri": "https://localhost:8080/"
        },
        "id": "F-9zGwSgX_1g",
        "outputId": "f10e0f7e-9fc7-403f-a941-8e3d08482abf"
      },
      "outputs": [
        {
          "output_type": "stream",
          "name": "stdout",
          "text": [
            "type(´Hi´) :  <class 'str'>\n"
          ]
        }
      ],
      "source": [
        "print(\"type(´Hi´) : \", type(\"Hi!\"))"
      ]
    },
    {
      "cell_type": "code",
      "source": [
        "print(\"type(5) : \", type(5))"
      ],
      "metadata": {
        "colab": {
          "base_uri": "https://localhost:8080/"
        },
        "id": "abXRYAziboF0",
        "outputId": "bcef324b-149a-436d-9a28-977c75ace092"
      },
      "execution_count": 123,
      "outputs": [
        {
          "output_type": "stream",
          "name": "stdout",
          "text": [
            "type(5) :  <class 'int'>\n"
          ]
        }
      ]
    },
    {
      "cell_type": "code",
      "source": [
        "print(\"type(0o123)\", type(0o123))   # Octal"
      ],
      "metadata": {
        "colab": {
          "base_uri": "https://localhost:8080/"
        },
        "id": "IdkCrhSrboWc",
        "outputId": "e445c8a5-0ac5-44c9-b02e-99ccfd28fc89"
      },
      "execution_count": 124,
      "outputs": [
        {
          "output_type": "stream",
          "name": "stdout",
          "text": [
            "type(0o123) <class 'int'>\n"
          ]
        }
      ]
    },
    {
      "cell_type": "code",
      "source": [
        "print(\"type(0xFFAA)\", type(0xFFAA)) # Hexadecimal"
      ],
      "metadata": {
        "colab": {
          "base_uri": "https://localhost:8080/"
        },
        "id": "VDOalQ5GboaC",
        "outputId": "6e7982e7-3212-4885-f611-ab2be89c8184"
      },
      "execution_count": 125,
      "outputs": [
        {
          "output_type": "stream",
          "name": "stdout",
          "text": [
            "type(0xFFAA) <class 'int'>\n"
          ]
        }
      ]
    },
    {
      "cell_type": "code",
      "source": [
        "print(\"type(5.3) : \", type(5.3))"
      ],
      "metadata": {
        "colab": {
          "base_uri": "https://localhost:8080/"
        },
        "id": "-TTVrMIybodi",
        "outputId": "9d2d52f4-4e91-44f0-d5c1-a107e3670233"
      },
      "execution_count": 126,
      "outputs": [
        {
          "output_type": "stream",
          "name": "stdout",
          "text": [
            "type(5.3) :  <class 'float'>\n"
          ]
        }
      ]
    },
    {
      "cell_type": "code",
      "source": [
        "print(\"type(5j) : \", type(5j))"
      ],
      "metadata": {
        "colab": {
          "base_uri": "https://localhost:8080/"
        },
        "id": "wCIvC7qBbohi",
        "outputId": "e9309f28-cf12-4bef-bec3-62ee0a1ba10b"
      },
      "execution_count": 127,
      "outputs": [
        {
          "output_type": "stream",
          "name": "stdout",
          "text": [
            "type(5j) :  <class 'complex'>\n"
          ]
        }
      ]
    },
    {
      "cell_type": "code",
      "source": [
        "print(\"type(True) : \", type(True))"
      ],
      "metadata": {
        "colab": {
          "base_uri": "https://localhost:8080/"
        },
        "id": "p_J0Jnilbok_",
        "outputId": "795f182f-e30e-4037-f3b0-bb73f59c8478"
      },
      "execution_count": 128,
      "outputs": [
        {
          "output_type": "stream",
          "name": "stdout",
          "text": [
            "type(True) :  <class 'bool'>\n"
          ]
        }
      ]
    },
    {
      "cell_type": "code",
      "source": [
        "print(\"type(False) : \", type(False))"
      ],
      "metadata": {
        "colab": {
          "base_uri": "https://localhost:8080/"
        },
        "id": "5K5qNJLbcBzx",
        "outputId": "c79bdbe7-2952-4a65-ef35-0d272d345fa0"
      },
      "execution_count": 129,
      "outputs": [
        {
          "output_type": "stream",
          "name": "stdout",
          "text": [
            "type(False) :  <class 'bool'>\n"
          ]
        }
      ]
    },
    {
      "cell_type": "code",
      "source": [
        "print(\"type(range(2,6)) : \", type(range(2,6)))"
      ],
      "metadata": {
        "colab": {
          "base_uri": "https://localhost:8080/"
        },
        "id": "sLUYS0blcFIR",
        "outputId": "af415642-05c3-4394-a3c3-f31dea3dec65"
      },
      "execution_count": 130,
      "outputs": [
        {
          "output_type": "stream",
          "name": "stdout",
          "text": [
            "type(range(2,6)) :  <class 'range'>\n"
          ]
        }
      ]
    },
    {
      "cell_type": "code",
      "source": [
        "print(\"type([1 , 2, 2, 100.5]) : \", type([1 , 2, 2, 100.5]))"
      ],
      "metadata": {
        "colab": {
          "base_uri": "https://localhost:8080/"
        },
        "id": "Mcz-Wx25bo_P",
        "outputId": "b1e59d7d-61bb-45a6-eca6-1686211640d7"
      },
      "execution_count": 137,
      "outputs": [
        {
          "output_type": "stream",
          "name": "stdout",
          "text": [
            "type([1 , 2, 2, 100.5]) :  <class 'list'>\n"
          ]
        }
      ]
    },
    {
      "cell_type": "code",
      "source": [
        "print(\"type((1 , 2, 2, 100.5)) : \", type((1 , 2, 2, 100.5)))"
      ],
      "metadata": {
        "colab": {
          "base_uri": "https://localhost:8080/"
        },
        "id": "suzJGv3IdZmU",
        "outputId": "db24d106-ea9b-402e-d6bd-f2b995fa96f8"
      },
      "execution_count": 138,
      "outputs": [
        {
          "output_type": "stream",
          "name": "stdout",
          "text": [
            "type((1 , 2, 2, 100.5)) :  <class 'tuple'>\n"
          ]
        }
      ]
    },
    {
      "cell_type": "code",
      "source": [
        "print(\"type({1 , 2, 2, 100.5}) : \", type({1 , 2, 2, 100.5}))"
      ],
      "metadata": {
        "colab": {
          "base_uri": "https://localhost:8080/"
        },
        "id": "zO-U59g2du2h",
        "outputId": "d8ea251b-7c9d-4c4b-b3b4-59bb33d9b044"
      },
      "execution_count": 139,
      "outputs": [
        {
          "output_type": "stream",
          "name": "stdout",
          "text": [
            "type({1 , 2, 2, 100.5}) :  <class 'set'>\n"
          ]
        }
      ]
    },
    {
      "cell_type": "code",
      "source": [
        "print(\"He said:\\n'Python is very easy'\")"
      ],
      "metadata": {
        "colab": {
          "base_uri": "https://localhost:8080/"
        },
        "id": "YmIVfoT85HEO",
        "outputId": "c56e5bf4-040b-4d99-c638-f0796fd53aea"
      },
      "execution_count": 16,
      "outputs": [
        {
          "output_type": "stream",
          "name": "stdout",
          "text": [
            "He said:\n",
            "'Python is very easy'\n"
          ]
        }
      ]
    },
    {
      "cell_type": "code",
      "source": [
        "print('He said, \"Python is very easy\"')"
      ],
      "metadata": {
        "colab": {
          "base_uri": "https://localhost:8080/"
        },
        "id": "C03qYe3K5g7Z",
        "outputId": "62b3886b-3c22-4b4e-c8aa-cb9bde44a85b"
      },
      "execution_count": 17,
      "outputs": [
        {
          "output_type": "stream",
          "name": "stdout",
          "text": [
            "He said, \"Python is very easy\"\n"
          ]
        }
      ]
    },
    {
      "cell_type": "code",
      "source": [
        "print(3 + 6)"
      ],
      "metadata": {
        "id": "nF5O8DRqhrGW",
        "colab": {
          "base_uri": "https://localhost:8080/"
        },
        "outputId": "baccb0aa-0d7c-47de-c697-894b3103c08c"
      },
      "execution_count": 18,
      "outputs": [
        {
          "output_type": "stream",
          "name": "stdout",
          "text": [
            "9\n"
          ]
        }
      ]
    },
    {
      "cell_type": "code",
      "source": [
        "print(6 + 7.0)"
      ],
      "metadata": {
        "id": "DHRo3TiFhv76",
        "outputId": "7f5589fd-5929-41cc-d73e-bd4c96dd6849",
        "colab": {
          "base_uri": "https://localhost:8080/"
        }
      },
      "execution_count": 19,
      "outputs": [
        {
          "output_type": "stream",
          "name": "stdout",
          "text": [
            "13.0\n"
          ]
        }
      ]
    },
    {
      "cell_type": "code",
      "source": [
        "print(4 * 7)"
      ],
      "metadata": {
        "id": "met61koch37f",
        "outputId": "a6460d35-1a11-4532-8be1-4d8a08ac0508",
        "colab": {
          "base_uri": "https://localhost:8080/"
        }
      },
      "execution_count": 20,
      "outputs": [
        {
          "output_type": "stream",
          "name": "stdout",
          "text": [
            "28\n"
          ]
        }
      ]
    },
    {
      "cell_type": "code",
      "source": [
        "print(49 / 7)  # division always returns float"
      ],
      "metadata": {
        "id": "CwCC6uTaiDS0",
        "outputId": "cabe9d2f-febf-495e-8d37-6dfcd9d15a41",
        "colab": {
          "base_uri": "https://localhost:8080/"
        }
      },
      "execution_count": 21,
      "outputs": [
        {
          "output_type": "stream",
          "name": "stdout",
          "text": [
            "7.0\n"
          ]
        }
      ]
    },
    {
      "cell_type": "markdown",
      "metadata": {
        "id": "XfyU6xz0bA6q"
      },
      "source": [
        "##Python Arithmetic Operators\n",
        " \\+ : Addition\t\n",
        "> x + y\n",
        "\n",
        "\\- : Subtraction\n",
        "> x - y\t\n",
        "\n",
        "\\* : Multiplication\n",
        "> x * y\n",
        "\n",
        "/ : Division\n",
        "> x / y\t\n",
        "\n",
        "\\% : Modulus\n",
        "> x % y\t\n",
        "\n",
        "\\** : Exponentiation\n",
        "> x ** y\t\n",
        "\n",
        "\\// : Floor division\n",
        "> x // y\n"
      ]
    },
    {
      "cell_type": "code",
      "execution_count": 25,
      "metadata": {
        "cellView": "both",
        "id": "KygmTajkbA6y",
        "colab": {
          "base_uri": "https://localhost:8080/"
        },
        "outputId": "eb537fc1-f9a5-476e-def2-190e8191a67b"
      },
      "outputs": [
        {
          "output_type": "execute_result",
          "data": {
            "text/plain": [
              "9"
            ]
          },
          "metadata": {},
          "execution_count": 25
        }
      ],
      "source": [
        "3 ** 2"
      ]
    },
    {
      "cell_type": "code",
      "source": [
        "9 ** 0.5"
      ],
      "metadata": {
        "colab": {
          "base_uri": "https://localhost:8080/"
        },
        "id": "rq2TTe-u95LH",
        "outputId": "4a1edf92-8217-4a3a-8c9c-ad45fc32061b"
      },
      "execution_count": 39,
      "outputs": [
        {
          "output_type": "execute_result",
          "data": {
            "text/plain": [
              "3.0"
            ]
          },
          "metadata": {},
          "execution_count": 39
        }
      ]
    },
    {
      "cell_type": "code",
      "source": [
        "9 ** (-1)"
      ],
      "metadata": {
        "colab": {
          "base_uri": "https://localhost:8080/"
        },
        "id": "mBObWa5d-4XJ",
        "outputId": "38ae6578-5c6d-4844-ae2b-954f7939903a"
      },
      "execution_count": 43,
      "outputs": [
        {
          "output_type": "execute_result",
          "data": {
            "text/plain": [
              "0.1111111111111111"
            ]
          },
          "metadata": {},
          "execution_count": 43
        }
      ]
    },
    {
      "cell_type": "code",
      "source": [
        "69 / 2"
      ],
      "metadata": {
        "colab": {
          "base_uri": "https://localhost:8080/"
        },
        "id": "pzq8700g97II",
        "outputId": "0d1b4a95-02c2-4682-f70f-fbedcfc45510"
      },
      "execution_count": 37,
      "outputs": [
        {
          "output_type": "execute_result",
          "data": {
            "text/plain": [
              "34.5"
            ]
          },
          "metadata": {},
          "execution_count": 37
        }
      ]
    },
    {
      "cell_type": "code",
      "source": [
        "69 // 2"
      ],
      "metadata": {
        "colab": {
          "base_uri": "https://localhost:8080/"
        },
        "id": "qA8lHVJi-TE8",
        "outputId": "ff7133ed-d6ca-4ff2-b1d1-f2abdf4b7677"
      },
      "execution_count": 35,
      "outputs": [
        {
          "output_type": "execute_result",
          "data": {
            "text/plain": [
              "34"
            ]
          },
          "metadata": {},
          "execution_count": 35
        }
      ]
    },
    {
      "cell_type": "code",
      "source": [
        "69 % 2"
      ],
      "metadata": {
        "colab": {
          "base_uri": "https://localhost:8080/"
        },
        "id": "3rCVNReE-C8K",
        "outputId": "fdc84c62-cfa4-4cf0-9c03-088bf26242fd"
      },
      "execution_count": 38,
      "outputs": [
        {
          "output_type": "execute_result",
          "data": {
            "text/plain": [
              "1"
            ]
          },
          "metadata": {},
          "execution_count": 38
        }
      ]
    },
    {
      "cell_type": "markdown",
      "source": [
        "##Python string Concatenation (+) and Repetition (*)"
      ],
      "metadata": {
        "id": "63Nv4Pud_roJ"
      }
    },
    {
      "cell_type": "code",
      "source": [
        "str1 = 'First string, '\n",
        "str2 = 'Second string.'\n",
        "str1 + str2"
      ],
      "metadata": {
        "colab": {
          "base_uri": "https://localhost:8080/",
          "height": 35
        },
        "id": "bHaUgKxfCB3E",
        "outputId": "548bd17d-380a-476a-a3e1-a10b753d5081"
      },
      "execution_count": 46,
      "outputs": [
        {
          "output_type": "execute_result",
          "data": {
            "application/vnd.google.colaboratory.intrinsic+json": {
              "type": "string"
            },
            "text/plain": [
              "'First string, Second string.'"
            ]
          },
          "metadata": {},
          "execution_count": 46
        }
      ]
    },
    {
      "cell_type": "code",
      "source": [
        "str = 'Python '\n",
        "str * 3"
      ],
      "metadata": {
        "colab": {
          "base_uri": "https://localhost:8080/",
          "height": 35
        },
        "id": "2ykPN3zWCF1q",
        "outputId": "cb09a458-bf04-4bcd-8be0-37f80a321fcb"
      },
      "execution_count": 48,
      "outputs": [
        {
          "output_type": "execute_result",
          "data": {
            "application/vnd.google.colaboratory.intrinsic+json": {
              "type": "string"
            },
            "text/plain": [
              "'Python Python Python '"
            ]
          },
          "metadata": {},
          "execution_count": 48
        }
      ]
    },
    {
      "cell_type": "markdown",
      "source": [
        "##Python string Indexing and Slicing:\n",
        "\n",
        "* In Python, indices start from 0. So, the first character corresponds to the index 0!\n",
        "* Negative index means position from the end; index -1 corresponds to the last character. \n",
        "* An index range a:b includes a and excludes b.\n"
      ],
      "metadata": {
        "id": "ggRUWuFsCfJG"
      }
    },
    {
      "cell_type": "code",
      "source": [
        "str = 'Life is too short, You need Python!'\n",
        "str[0]"
      ],
      "metadata": {
        "colab": {
          "base_uri": "https://localhost:8080/",
          "height": 35
        },
        "id": "JFpqGZlkC6Dz",
        "outputId": "194e166a-0a9d-472b-fbcf-04524de10a5d"
      },
      "execution_count": 50,
      "outputs": [
        {
          "output_type": "execute_result",
          "data": {
            "application/vnd.google.colaboratory.intrinsic+json": {
              "type": "string"
            },
            "text/plain": [
              "'L'"
            ]
          },
          "metadata": {},
          "execution_count": 50
        }
      ]
    },
    {
      "cell_type": "code",
      "source": [
        "str[3]"
      ],
      "metadata": {
        "colab": {
          "base_uri": "https://localhost:8080/",
          "height": 35
        },
        "id": "zscwUW0ODLFj",
        "outputId": "a94c95a8-6536-427f-b567-bf360b26e27b"
      },
      "execution_count": 51,
      "outputs": [
        {
          "output_type": "execute_result",
          "data": {
            "application/vnd.google.colaboratory.intrinsic+json": {
              "type": "string"
            },
            "text/plain": [
              "'e'"
            ]
          },
          "metadata": {},
          "execution_count": 51
        }
      ]
    },
    {
      "cell_type": "code",
      "source": [
        "str[-1]"
      ],
      "metadata": {
        "colab": {
          "base_uri": "https://localhost:8080/",
          "height": 35
        },
        "id": "pezDWtvLDObL",
        "outputId": "a47ecbef-7ca8-4072-a819-04c152f0a347"
      },
      "execution_count": 53,
      "outputs": [
        {
          "output_type": "execute_result",
          "data": {
            "application/vnd.google.colaboratory.intrinsic+json": {
              "type": "string"
            },
            "text/plain": [
              "'!'"
            ]
          },
          "metadata": {},
          "execution_count": 53
        }
      ]
    },
    {
      "cell_type": "code",
      "source": [
        "str[0:4]"
      ],
      "metadata": {
        "colab": {
          "base_uri": "https://localhost:8080/",
          "height": 35
        },
        "id": "K22eHlMCDdW7",
        "outputId": "6317ce9c-342e-40d8-d746-9757fbb1d3fa"
      },
      "execution_count": 54,
      "outputs": [
        {
          "output_type": "execute_result",
          "data": {
            "application/vnd.google.colaboratory.intrinsic+json": {
              "type": "string"
            },
            "text/plain": [
              "'Life'"
            ]
          },
          "metadata": {},
          "execution_count": 54
        }
      ]
    },
    {
      "cell_type": "code",
      "source": [
        "str[:17]"
      ],
      "metadata": {
        "colab": {
          "base_uri": "https://localhost:8080/",
          "height": 35
        },
        "id": "bJ1Y7MlKDirq",
        "outputId": "ba7fa42d-4019-4c22-ce17-4abe06a3c08a"
      },
      "execution_count": 55,
      "outputs": [
        {
          "output_type": "execute_result",
          "data": {
            "application/vnd.google.colaboratory.intrinsic+json": {
              "type": "string"
            },
            "text/plain": [
              "'Life is too short'"
            ]
          },
          "metadata": {},
          "execution_count": 55
        }
      ]
    },
    {
      "cell_type": "code",
      "source": [
        "str[19:]"
      ],
      "metadata": {
        "colab": {
          "base_uri": "https://localhost:8080/",
          "height": 35
        },
        "id": "pb2f00jyDmRC",
        "outputId": "68de5d02-a3c3-4958-9127-88981b53f100"
      },
      "execution_count": 56,
      "outputs": [
        {
          "output_type": "execute_result",
          "data": {
            "application/vnd.google.colaboratory.intrinsic+json": {
              "type": "string"
            },
            "text/plain": [
              "'You need Python!'"
            ]
          },
          "metadata": {},
          "execution_count": 56
        }
      ]
    },
    {
      "cell_type": "code",
      "source": [
        ""
      ],
      "metadata": {
        "id": "PV77-9YLDqvt"
      },
      "execution_count": null,
      "outputs": []
    },
    {
      "cell_type": "markdown",
      "source": [
        "\n",
        "##Some of the useful Python string methods:\n",
        "\n",
        "* **x.count(str)** : Count the string pattern.\n",
        "* **x.find(str)** : Position of  the first match. -1 if no match is found.\n",
        "* **x.index(str)** : Position of the first match. Error if no match is found.\n",
        "* **len(x)** : String length. This is not a string method but a built-in Python function.\n",
        "* **x.lstrip()**\tTrim left white spaces.\n",
        "* **x.rstrip()** : Trim right white spaces.\n",
        "* **x.strip()** : Trim white spaces from both sides.\n",
        "* **x.replace(str1, str2)** : Replace string from str1 to str2.\n",
        "* **x.join(str_list)** : Join the string list items using x as connector.\n",
        "* **x.split(y)** : Split a string by y.\n",
        "* **x.upper()** : Convert to the upper case.\n",
        "* **x.lower()** : Convert to the lower case.\n"
      ],
      "metadata": {
        "id": "qH_uI6jcB-8n"
      }
    },
    {
      "cell_type": "code",
      "source": [
        "x = 'Python'\n",
        "len(x)\t\t\t\t# String length. This is a Python built-in function.\n"
      ],
      "metadata": {
        "colab": {
          "base_uri": "https://localhost:8080/"
        },
        "id": "Zdp1XvQv-Kvc",
        "outputId": "c310e8f5-95ea-4d3d-8cc9-58cfde504939"
      },
      "execution_count": 108,
      "outputs": [
        {
          "output_type": "execute_result",
          "data": {
            "text/plain": [
              "6"
            ]
          },
          "metadata": {},
          "execution_count": 108
        }
      ]
    },
    {
      "cell_type": "code",
      "source": [
        "x.count('h')\t\t\t\t# Counts the 'h' character."
      ],
      "metadata": {
        "colab": {
          "base_uri": "https://localhost:8080/"
        },
        "id": "AwEVtxEiEzyc",
        "outputId": "613f63a7-71df-4609-c176-3b1c3fee2ee6"
      },
      "execution_count": 109,
      "outputs": [
        {
          "output_type": "execute_result",
          "data": {
            "text/plain": [
              "1"
            ]
          },
          "metadata": {},
          "execution_count": 109
        }
      ]
    },
    {
      "cell_type": "code",
      "source": [
        "x.upper()\t\t\t\t# Convert to the uppercase."
      ],
      "metadata": {
        "colab": {
          "base_uri": "https://localhost:8080/",
          "height": 35
        },
        "id": "MYvEgnLwE8VI",
        "outputId": "238d93ef-40e8-4bbf-f019-25d1cd859fba"
      },
      "execution_count": 110,
      "outputs": [
        {
          "output_type": "execute_result",
          "data": {
            "application/vnd.google.colaboratory.intrinsic+json": {
              "type": "string"
            },
            "text/plain": [
              "'PYTHON'"
            ]
          },
          "metadata": {},
          "execution_count": 110
        }
      ]
    },
    {
      "cell_type": "code",
      "source": [
        "x.lower()\t\t\t\t# Convert to the lowercase."
      ],
      "metadata": {
        "colab": {
          "base_uri": "https://localhost:8080/",
          "height": 35
        },
        "id": "fiYAJn7iFhMW",
        "outputId": "dc625c6b-007c-49cf-e93b-828cfa07cc7d"
      },
      "execution_count": 111,
      "outputs": [
        {
          "output_type": "execute_result",
          "data": {
            "application/vnd.google.colaboratory.intrinsic+json": {
              "type": "string"
            },
            "text/plain": [
              "'python'"
            ]
          },
          "metadata": {},
          "execution_count": 111
        }
      ]
    },
    {
      "cell_type": "code",
      "source": [
        "x = 'Python'\n",
        "x.find('o')\t\t\t\t# Position of the 'o'.\n"
      ],
      "metadata": {
        "colab": {
          "base_uri": "https://localhost:8080/"
        },
        "id": "lJ16EQUsFjhd",
        "outputId": "e7128f02-5c96-4178-d88c-e6112ef40ea9"
      },
      "execution_count": 112,
      "outputs": [
        {
          "output_type": "execute_result",
          "data": {
            "text/plain": [
              "4"
            ]
          },
          "metadata": {},
          "execution_count": 112
        }
      ]
    },
    {
      "cell_type": "code",
      "source": [
        "x.find('w')\t\t\t\t# Look for the position of the 'w'. No match.\n"
      ],
      "metadata": {
        "colab": {
          "base_uri": "https://localhost:8080/"
        },
        "id": "CtLYhp41FoEq",
        "outputId": "a77537e6-1e79-4913-f3a9-f7138d00da3f"
      },
      "execution_count": 113,
      "outputs": [
        {
          "output_type": "execute_result",
          "data": {
            "text/plain": [
              "-1"
            ]
          },
          "metadata": {},
          "execution_count": 113
        }
      ]
    },
    {
      "cell_type": "code",
      "source": [
        "x.index('o')\t\t\t\t# Look for the position of the 'o'.\n"
      ],
      "metadata": {
        "colab": {
          "base_uri": "https://localhost:8080/"
        },
        "id": "kEnP0UebFqlM",
        "outputId": "6d3944a0-a0b7-4567-a2e7-c579367b5eba"
      },
      "execution_count": 114,
      "outputs": [
        {
          "output_type": "execute_result",
          "data": {
            "text/plain": [
              "4"
            ]
          },
          "metadata": {},
          "execution_count": 114
        }
      ]
    },
    {
      "cell_type": "code",
      "source": [
        "x.index('w')\t\t\t\t# Look for the position of the 'w'. No match."
      ],
      "metadata": {
        "colab": {
          "base_uri": "https://localhost:8080/",
          "height": 167
        },
        "id": "cU8GXk3eFtzZ",
        "outputId": "b4b223f5-ef8d-4121-96b3-0fc2707f3e20"
      },
      "execution_count": 115,
      "outputs": [
        {
          "output_type": "error",
          "ename": "ValueError",
          "evalue": "ignored",
          "traceback": [
            "\u001b[0;31m---------------------------------------------------------------------------\u001b[0m",
            "\u001b[0;31mValueError\u001b[0m                                Traceback (most recent call last)",
            "\u001b[0;32m<ipython-input-115-8daf5be43b1a>\u001b[0m in \u001b[0;36m<module>\u001b[0;34m()\u001b[0m\n\u001b[0;32m----> 1\u001b[0;31m \u001b[0mx\u001b[0m\u001b[0;34m.\u001b[0m\u001b[0mindex\u001b[0m\u001b[0;34m(\u001b[0m\u001b[0;34m'w'\u001b[0m\u001b[0;34m)\u001b[0m                            \u001b[0;31m# Look for the position of the 'w'. No match.\u001b[0m\u001b[0;34m\u001b[0m\u001b[0;34m\u001b[0m\u001b[0m\n\u001b[0m",
            "\u001b[0;31mValueError\u001b[0m: substring not found"
          ]
        }
      ]
    },
    {
      "cell_type": "code",
      "source": [
        "x = 'Life is too short, You need Python!'\n",
        "x.split(' ')                                                                      \t\t  # The output is a list (*).\n"
      ],
      "metadata": {
        "colab": {
          "base_uri": "https://localhost:8080/"
        },
        "id": "eFPTwzN5FzA0",
        "outputId": "c0465ee2-9c30-422b-db89-9cd48bb88384"
      },
      "execution_count": 116,
      "outputs": [
        {
          "output_type": "execute_result",
          "data": {
            "text/plain": [
              "['Life', 'is', 'too', 'short,', 'You', 'need', 'Python!']"
            ]
          },
          "metadata": {},
          "execution_count": 116
        }
      ]
    },
    {
      "cell_type": "code",
      "source": [
        "y = x.split(' ')\n",
        "print(\"y = \", y)\n",
        "a = '_'\n",
        "print(\"a.join(y) = \", a.join(y))\n"
      ],
      "metadata": {
        "colab": {
          "base_uri": "https://localhost:8080/"
        },
        "id": "JtrDvLB7GJrz",
        "outputId": "a862ec33-0c09-41aa-da89-ffc2997db4fe"
      },
      "execution_count": 117,
      "outputs": [
        {
          "output_type": "stream",
          "name": "stdout",
          "text": [
            "y =  ['Life', 'is', 'too', 'short,', 'You', 'need', 'Python!']\n",
            "a.join(y) =  Life_is_too_short,_You_need_Python!\n"
          ]
        }
      ]
    },
    {
      "cell_type": "markdown",
      "source": [
        "##Python Logical Operators\n",
        "* **and** : Returns True if both statements are true\t\n",
        "* **or** : Returns True if one of the statements is true\n",
        "* **not** : Reverse the result, returns False if the result is true\n"
      ],
      "metadata": {
        "id": "JwKDRrLHIkyC"
      }
    },
    {
      "cell_type": "code",
      "source": [
        "False and True"
      ],
      "metadata": {
        "colab": {
          "base_uri": "https://localhost:8080/"
        },
        "id": "zfYS2tl1JCgO",
        "outputId": "f2574c44-02c6-4171-b1c8-882492575c87"
      },
      "execution_count": 78,
      "outputs": [
        {
          "output_type": "execute_result",
          "data": {
            "text/plain": [
              "False"
            ]
          },
          "metadata": {},
          "execution_count": 78
        }
      ]
    },
    {
      "cell_type": "code",
      "source": [
        "not(2 == 3)"
      ],
      "metadata": {
        "colab": {
          "base_uri": "https://localhost:8080/"
        },
        "id": "izOaxufzKIEq",
        "outputId": "039afcdb-2d3e-46f7-fe6b-e4d8c7999f03"
      },
      "execution_count": 86,
      "outputs": [
        {
          "output_type": "execute_result",
          "data": {
            "text/plain": [
              "True"
            ]
          },
          "metadata": {},
          "execution_count": 86
        }
      ]
    },
    {
      "cell_type": "code",
      "source": [
        "2 >= 1"
      ],
      "metadata": {
        "colab": {
          "base_uri": "https://localhost:8080/"
        },
        "id": "PZWGEGpPKRsm",
        "outputId": "08edc6cc-c32e-42f3-893a-211df13d1eb9"
      },
      "execution_count": 82,
      "outputs": [
        {
          "output_type": "execute_result",
          "data": {
            "text/plain": [
              "True"
            ]
          },
          "metadata": {},
          "execution_count": 82
        }
      ]
    },
    {
      "cell_type": "code",
      "source": [
        "5 < 4"
      ],
      "metadata": {
        "colab": {
          "base_uri": "https://localhost:8080/"
        },
        "id": "3AChqtWoKV_R",
        "outputId": "7b985964-53b7-4eda-eb6f-69f385991796"
      },
      "execution_count": 85,
      "outputs": [
        {
          "output_type": "execute_result",
          "data": {
            "text/plain": [
              "False"
            ]
          },
          "metadata": {},
          "execution_count": 85
        }
      ]
    },
    {
      "cell_type": "markdown",
      "source": [
        "##Python Variables\n",
        "\n",
        "* Variables are containers for storing data values.\n",
        "* Python has no command for declaring a variable.\n",
        "* A variable is created the moment you first assign a value to it (dynamic type).\n",
        "* Name of a variable can start with a letter or _\n",
        "* Variable names are case sensitive"
      ],
      "metadata": {
        "id": "ZSrRbLCvJ4tQ"
      }
    },
    {
      "cell_type": "code",
      "source": [
        "x = 5\n",
        "print(type(x))"
      ],
      "metadata": {
        "colab": {
          "base_uri": "https://localhost:8080/"
        },
        "id": "0YEt9hR_Pp9N",
        "outputId": "5acdb04b-102e-4b3e-ec75-5bdb1f88377f"
      },
      "execution_count": 96,
      "outputs": [
        {
          "output_type": "stream",
          "name": "stdout",
          "text": [
            "<class 'int'>\n"
          ]
        }
      ]
    },
    {
      "cell_type": "code",
      "source": [
        "y = \"hello\"\n",
        "print(type(y))"
      ],
      "metadata": {
        "colab": {
          "base_uri": "https://localhost:8080/"
        },
        "id": "Mh56j-_mP-1a",
        "outputId": "1d063557-31c3-43ee-dbad-05e094538885"
      },
      "execution_count": 97,
      "outputs": [
        {
          "output_type": "stream",
          "name": "stdout",
          "text": [
            "<class 'str'>\n"
          ]
        }
      ]
    },
    {
      "cell_type": "code",
      "source": [
        "x = y\n",
        "print(type(x))"
      ],
      "metadata": {
        "colab": {
          "base_uri": "https://localhost:8080/"
        },
        "id": "LuAG8Kn5QEYN",
        "outputId": "2328b6a2-3aaf-4400-f47b-b31ef085aa58"
      },
      "execution_count": 99,
      "outputs": [
        {
          "output_type": "stream",
          "name": "stdout",
          "text": [
            "<class 'str'>\n"
          ]
        }
      ]
    },
    {
      "cell_type": "code",
      "source": [
        "x = 2\n",
        "y = 1.5\n",
        "x = x + y\n",
        "print(x)"
      ],
      "metadata": {
        "colab": {
          "base_uri": "https://localhost:8080/"
        },
        "id": "5FGCqH1EQO1w",
        "outputId": "de432de3-9ac8-450d-a954-3ece63c51c3a"
      },
      "execution_count": 101,
      "outputs": [
        {
          "output_type": "stream",
          "name": "stdout",
          "text": [
            "3.5\n"
          ]
        }
      ]
    },
    {
      "cell_type": "markdown",
      "source": [
        "##Variable Naming Conventions\n",
        "\n",
        "* Snakecase: Words are delimited by an underscore.\n",
        "* Pascalcase: Words are delimited by capital letters.\n",
        "* Camelcase: Words are delimited by capital letters, except the initial word."
      ],
      "metadata": {
        "id": "bpvD__F8Q3Ul"
      }
    },
    {
      "cell_type": "code",
      "source": [
        "my_age = 25  # snake case variable naming\n",
        "\n",
        "myAge = 24  # camel case variable naming\n",
        "\n",
        "MyAge = 23  # pascal case\n",
        "\n",
        "print(MyAge == myAge)\n",
        "\n",
        "PI = 3.14  # used for constants"
      ],
      "metadata": {
        "colab": {
          "base_uri": "https://localhost:8080/"
        },
        "id": "jFRiqcF3SO9x",
        "outputId": "7fe383c9-35af-443b-e6af-76029a243121"
      },
      "execution_count": 104,
      "outputs": [
        {
          "output_type": "stream",
          "name": "stdout",
          "text": [
            "False\n"
          ]
        }
      ]
    },
    {
      "cell_type": "markdown",
      "source": [
        "## Follow practice steps on 'ex_0101.ipynb'\n",
        "## Follow practice steps on 'ex_0102.ipynb'"
      ],
      "metadata": {
        "id": "zt2SS-6ESvmI"
      }
    },
    {
      "cell_type": "markdown",
      "source": [
        "##Composite Data Types in Python\n",
        "\n",
        "* **List**: stores multiple values that may or may not be of the same type.\n",
        "* **Tuple**: similar to the list with some restrictions. Tuples are immutable objects (*).\n",
        "* **Dictionary**: associative array.\n",
        "* **Set**: unordered collection of values without repetition. \n"
      ],
      "metadata": {
        "id": "C_YlFZszZzoA"
      }
    },
    {
      "cell_type": "markdown",
      "source": [
        "**A list contains comma separated values within square brackets.**"
      ],
      "metadata": {
        "id": "GZgYJw64i6nu"
      }
    },
    {
      "cell_type": "code",
      "source": [
        "a = [ ]\t\t\t\t                                         # An empty list."
      ],
      "metadata": {
        "id": "KpdrvMRTg1hp"
      },
      "execution_count": 140,
      "outputs": []
    },
    {
      "cell_type": "code",
      "source": [
        "b = [1, 2, 3]\t\t\t                                     # A list with numeric values."
      ],
      "metadata": {
        "id": "khZc_As6g5G_"
      },
      "execution_count": 141,
      "outputs": []
    },
    {
      "cell_type": "code",
      "source": [
        "c = ['Life', 'is', 'too', 'short']\t\t                 # A list with strings."
      ],
      "metadata": {
        "id": "LELZACN5g7VI"
      },
      "execution_count": 143,
      "outputs": []
    },
    {
      "cell_type": "code",
      "source": [
        "d = [1, 2, 'Life', 'is']\t\t\t                         # A list with mixed data type values.\t"
      ],
      "metadata": {
        "id": "wFo_lRuzhGeO"
      },
      "execution_count": 145,
      "outputs": []
    },
    {
      "cell_type": "code",
      "source": [
        "d = [1, 2, 'Life', 'is']\t\t\t                         # A list with mixed data type values."
      ],
      "metadata": {
        "id": "4MMrC9KTg_7K"
      },
      "execution_count": 146,
      "outputs": []
    },
    {
      "cell_type": "code",
      "source": [
        "e = [1, 2, ['Life', 'is']]\t\t                         # A nested list."
      ],
      "metadata": {
        "id": "yin6cccwhVoW"
      },
      "execution_count": 147,
      "outputs": []
    },
    {
      "cell_type": "code",
      "source": [
        "e[1]\t\t\t\t                                           # Indexing of a list."
      ],
      "metadata": {
        "colab": {
          "base_uri": "https://localhost:8080/"
        },
        "id": "_Xz7V3CehlkR",
        "outputId": "3c23004c-73cb-45b3-a2db-f0bcfc46f714"
      },
      "execution_count": 148,
      "outputs": [
        {
          "output_type": "execute_result",
          "data": {
            "text/plain": [
              "2"
            ]
          },
          "metadata": {},
          "execution_count": 148
        }
      ]
    },
    {
      "cell_type": "code",
      "source": [
        "e[2]"
      ],
      "metadata": {
        "colab": {
          "base_uri": "https://localhost:8080/"
        },
        "id": "8WqhXPkyhp4y",
        "outputId": "45fbdbf6-98f4-4efe-e71b-733a496b8f41"
      },
      "execution_count": 150,
      "outputs": [
        {
          "output_type": "execute_result",
          "data": {
            "text/plain": [
              "['Life', 'is']"
            ]
          },
          "metadata": {},
          "execution_count": 150
        }
      ]
    },
    {
      "cell_type": "code",
      "source": [
        "e[2][1]"
      ],
      "metadata": {
        "colab": {
          "base_uri": "https://localhost:8080/",
          "height": 35
        },
        "id": "4XhFko4mhuc-",
        "outputId": "c9086cf0-8e82-44b0-da59-4d1a49e0a83f"
      },
      "execution_count": 151,
      "outputs": [
        {
          "output_type": "execute_result",
          "data": {
            "application/vnd.google.colaboratory.intrinsic+json": {
              "type": "string"
            },
            "text/plain": [
              "'is'"
            ]
          },
          "metadata": {},
          "execution_count": 151
        }
      ]
    },
    {
      "cell_type": "code",
      "source": [
        "a = [1, 2, 3, 4, 5]"
      ],
      "metadata": {
        "id": "-rjNzbG2hyID"
      },
      "execution_count": 152,
      "outputs": []
    },
    {
      "cell_type": "markdown",
      "source": [
        "**Slicing a list:**"
      ],
      "metadata": {
        "id": "3JSUWaccjKVC"
      }
    },
    {
      "cell_type": "code",
      "source": [
        "a[:2]                                      # From the index 0 to 1 (inclusive)."
      ],
      "metadata": {
        "colab": {
          "base_uri": "https://localhost:8080/"
        },
        "id": "kv-4O03viKyp",
        "outputId": "a2089864-1840-4201-b254-ebd7c2d2d769"
      },
      "execution_count": 153,
      "outputs": [
        {
          "output_type": "execute_result",
          "data": {
            "text/plain": [
              "[1, 2]"
            ]
          },
          "metadata": {},
          "execution_count": 153
        }
      ]
    },
    {
      "cell_type": "code",
      "source": [
        "a[2:]                       \t\t           # From the index 2 to the end."
      ],
      "metadata": {
        "colab": {
          "base_uri": "https://localhost:8080/"
        },
        "id": "OmLPOF_XiOlz",
        "outputId": "ae1b1ad2-1279-4864-f5b8-36d62b1cfc90"
      },
      "execution_count": 154,
      "outputs": [
        {
          "output_type": "execute_result",
          "data": {
            "text/plain": [
              "[3, 4, 5]"
            ]
          },
          "metadata": {},
          "execution_count": 154
        }
      ]
    },
    {
      "cell_type": "code",
      "source": [
        "a[:]\t\t\t          \t                     # The whole list!"
      ],
      "metadata": {
        "colab": {
          "base_uri": "https://localhost:8080/"
        },
        "id": "LxvEbzwmiRaz",
        "outputId": "54bc94b9-6e5e-4b4f-b4d3-2776a409fd55"
      },
      "execution_count": 155,
      "outputs": [
        {
          "output_type": "execute_result",
          "data": {
            "text/plain": [
              "[1, 2, 3, 4, 5]"
            ]
          },
          "metadata": {},
          "execution_count": 155
        }
      ]
    },
    {
      "cell_type": "code",
      "source": [
        "a = [1, 2, 3, ['a', 'b', 'c'], 4, 5]"
      ],
      "metadata": {
        "id": "DE9Tw2ZXihm9"
      },
      "execution_count": 156,
      "outputs": []
    },
    {
      "cell_type": "code",
      "source": [
        "a[2:5]"
      ],
      "metadata": {
        "colab": {
          "base_uri": "https://localhost:8080/"
        },
        "id": "F93x4IFZij8U",
        "outputId": "0a710bc2-522d-4270-913a-7743c2b3fb4d"
      },
      "execution_count": 157,
      "outputs": [
        {
          "output_type": "execute_result",
          "data": {
            "text/plain": [
              "[3, ['a', 'b', 'c'], 4]"
            ]
          },
          "metadata": {},
          "execution_count": 157
        }
      ]
    },
    {
      "cell_type": "code",
      "source": [
        "a[3][:2]"
      ],
      "metadata": {
        "colab": {
          "base_uri": "https://localhost:8080/"
        },
        "id": "qhH2oMAOimTw",
        "outputId": "25320083-244f-4ec7-ba7b-9ed32f11bdc8"
      },
      "execution_count": 158,
      "outputs": [
        {
          "output_type": "execute_result",
          "data": {
            "text/plain": [
              "['a', 'b']"
            ]
          },
          "metadata": {},
          "execution_count": 158
        }
      ]
    },
    {
      "cell_type": "markdown",
      "source": [
        "**Concatenation (+) :**\n",
        "\n",
        "To join two list objects, use the + operator."
      ],
      "metadata": {
        "id": "yrKdhwOGjasF"
      }
    },
    {
      "cell_type": "code",
      "source": [
        "a = [1, 2, 3]\n",
        "b = [4, 5, 6]\n",
        "a + b"
      ],
      "metadata": {
        "colab": {
          "base_uri": "https://localhost:8080/"
        },
        "id": "n8AsQKQGjt2U",
        "outputId": "98522f4c-5034-49a9-8c70-becf37084f10"
      },
      "execution_count": 159,
      "outputs": [
        {
          "output_type": "execute_result",
          "data": {
            "text/plain": [
              "[1, 2, 3, 4, 5, 6]"
            ]
          },
          "metadata": {},
          "execution_count": 159
        }
      ]
    },
    {
      "cell_type": "markdown",
      "source": [
        "**Repetition (*):**\n",
        "\n",
        "To repeat a list object by a given number of times, use the * operator. "
      ],
      "metadata": {
        "id": "5gskgQt9kCU2"
      }
    },
    {
      "cell_type": "code",
      "source": [
        "a = [1, 2, 3]\n",
        "a * 3"
      ],
      "metadata": {
        "colab": {
          "base_uri": "https://localhost:8080/"
        },
        "id": "PKcs5r__kU_7",
        "outputId": "c7356213-a35c-4bbe-a445-d1a04643aafc"
      },
      "execution_count": 160,
      "outputs": [
        {
          "output_type": "execute_result",
          "data": {
            "text/plain": [
              "[1, 2, 3, 1, 2, 3, 1, 2, 3]"
            ]
          },
          "metadata": {},
          "execution_count": 160
        }
      ]
    },
    {
      "cell_type": "markdown",
      "source": [
        "**Modifying a list: change one or multiple entries :**\n",
        "\n"
      ],
      "metadata": {
        "id": "9dJ7aJobk81V"
      }
    },
    {
      "cell_type": "code",
      "source": [
        "a = [1, 2, 3]\n",
        "a[1] = -1\n",
        "a"
      ],
      "metadata": {
        "outputId": "77784068-908b-4c55-896c-30de0b19769b",
        "colab": {
          "base_uri": "https://localhost:8080/"
        },
        "id": "ZQfvX0Vnk81c"
      },
      "execution_count": 162,
      "outputs": [
        {
          "output_type": "execute_result",
          "data": {
            "text/plain": [
              "[1, -1, 3]"
            ]
          },
          "metadata": {},
          "execution_count": 162
        }
      ]
    },
    {
      "cell_type": "code",
      "source": [
        "a[1:3]"
      ],
      "metadata": {
        "colab": {
          "base_uri": "https://localhost:8080/"
        },
        "id": "qRVp10SslLsr",
        "outputId": "293d8ebc-f1dd-4a00-8fa4-71070ac2d785"
      },
      "execution_count": 163,
      "outputs": [
        {
          "output_type": "execute_result",
          "data": {
            "text/plain": [
              "[-1, 3]"
            ]
          },
          "metadata": {},
          "execution_count": 163
        }
      ]
    },
    {
      "cell_type": "code",
      "source": [
        "a[1:3] = [3, 5, 7, 9, 11]\n",
        "a"
      ],
      "metadata": {
        "colab": {
          "base_uri": "https://localhost:8080/"
        },
        "id": "hk334_WmlNUe",
        "outputId": "e7adec90-6de5-460f-f915-9cde08aa6c9b"
      },
      "execution_count": 165,
      "outputs": [
        {
          "output_type": "execute_result",
          "data": {
            "text/plain": [
              "[1, 3, 5, 7, 9, 11, 7, 9, 11]"
            ]
          },
          "metadata": {},
          "execution_count": 165
        }
      ]
    },
    {
      "cell_type": "markdown",
      "source": [
        "**Modifying a list: careful with the following differences.**"
      ],
      "metadata": {
        "id": "QoMmDXchmYcw"
      }
    },
    {
      "cell_type": "code",
      "source": [
        "a = [1, 2, 3]\n",
        "a[1:2] = [-1, -2, -3]\t\t\t             # Partial change of the list values.\n",
        "a"
      ],
      "metadata": {
        "colab": {
          "base_uri": "https://localhost:8080/"
        },
        "id": "yqDhocGJmfI_",
        "outputId": "152e27b0-8a61-4f35-c408-4163d155f781"
      },
      "execution_count": 166,
      "outputs": [
        {
          "output_type": "execute_result",
          "data": {
            "text/plain": [
              "[1, -1, -2, -3, 3]"
            ]
          },
          "metadata": {},
          "execution_count": 166
        }
      ]
    },
    {
      "cell_type": "code",
      "source": [
        "a = [1, 2, 3]\n",
        "a[1] = [-1, -2, -3]\t\t\t                # An entry is replaced by another list.\n",
        "a"
      ],
      "metadata": {
        "colab": {
          "base_uri": "https://localhost:8080/"
        },
        "id": "qAxJ9gQlmq4N",
        "outputId": "f255ed18-a128-479e-b832-ce1fdfc4859d"
      },
      "execution_count": 167,
      "outputs": [
        {
          "output_type": "execute_result",
          "data": {
            "text/plain": [
              "[1, [-1, -2, -3], 3]"
            ]
          },
          "metadata": {},
          "execution_count": 167
        }
      ]
    },
    {
      "cell_type": "markdown",
      "source": [
        "**Modifying a list: partial removal.**"
      ],
      "metadata": {
        "id": "E2gD0pgrnAfj"
      }
    },
    {
      "cell_type": "code",
      "source": [
        "a = [1, 2, 3, 4, 5]\n",
        "a[1:3] = []\t\t\t\t# Partial removal.\n",
        "a"
      ],
      "metadata": {
        "colab": {
          "base_uri": "https://localhost:8080/"
        },
        "id": "PzztU1MFnEL7",
        "outputId": "b0223962-67a1-4b51-82e2-0b4818d2b01e"
      },
      "execution_count": 168,
      "outputs": [
        {
          "output_type": "execute_result",
          "data": {
            "text/plain": [
              "[1, 4, 5]"
            ]
          },
          "metadata": {},
          "execution_count": 168
        }
      ]
    },
    {
      "cell_type": "code",
      "source": [
        "a = [1, 2, 3, 4, 5]\n",
        "del a[2]\t\t\t\t# Removes a specific entry using del keyword\n",
        "a"
      ],
      "metadata": {
        "colab": {
          "base_uri": "https://localhost:8080/"
        },
        "id": "_bQ4syfWnFeM",
        "outputId": "1f19e81f-40af-4827-f1be-3a79b19c8226"
      },
      "execution_count": 169,
      "outputs": [
        {
          "output_type": "execute_result",
          "data": {
            "text/plain": [
              "[1, 2, 4, 5]"
            ]
          },
          "metadata": {},
          "execution_count": 169
        }
      ]
    },
    {
      "cell_type": "markdown",
      "source": [
        "##Python list methods:\n",
        "* **x.insert(pos, val) :** Insert a value at a specified position.\n",
        "* **x.remove(val) :** Remove a specific value from a list.\n",
        "* **x.pop() :** Remove and return the last value of a list.\n",
        "* **x.count(val) :** Count the appearances of a value in a list.\n",
        "* **x.extend(y) :** Extend the list x with another list y. Means  x = x + y.\n",
        "* **x.append(val) :** Appends a value as an entry.\n",
        "* **x.sort() :** Sorting of a list.\n",
        "* **x.reverse() :** Reversal of the entry ordering.\n",
        "* **x.index(val) :** Looks for the position of a specific value. Error if no match is found.\n",
        "* **len(x) :** Total number of entries in a list. A built-in Python function.\n",
        "\n",
        "\n"
      ],
      "metadata": {
        "id": "DycYd6zKpiQO"
      }
    },
    {
      "cell_type": "code",
      "source": [
        "a = [3, 1, 5, 2, 4]\n",
        "a.sort()\t      \t\t\t# Sorting of a list object (lasting effect).\n",
        "a"
      ],
      "metadata": {
        "colab": {
          "base_uri": "https://localhost:8080/"
        },
        "id": "eUUo3D8pqGX1",
        "outputId": "5cf9a77c-4610-434c-ee6c-8104a84ffb60"
      },
      "execution_count": 170,
      "outputs": [
        {
          "output_type": "execute_result",
          "data": {
            "text/plain": [
              "[1, 2, 3, 4, 5]"
            ]
          },
          "metadata": {},
          "execution_count": 170
        }
      ]
    },
    {
      "cell_type": "code",
      "source": [
        "a = [1, 2, 3]\n",
        "a.append(4)\t\t\t    \t# A value is added as an entry. \t\t\n",
        "a.append([5,6])\t\t \t\t# A list is added as an entry.\n",
        "a"
      ],
      "metadata": {
        "colab": {
          "base_uri": "https://localhost:8080/"
        },
        "id": "P1eHAx6Zqbzl",
        "outputId": "1fc32b6b-96f3-40b9-813f-c71e1dee02cb"
      },
      "execution_count": 171,
      "outputs": [
        {
          "output_type": "execute_result",
          "data": {
            "text/plain": [
              "[1, 2, 3, 4, [5, 6]]"
            ]
          },
          "metadata": {},
          "execution_count": 171
        }
      ]
    },
    {
      "cell_type": "code",
      "source": [
        "a = [3, 1, 5, 2, 4]\n",
        "a.sort(reverse=True)\t\t\t# Sorting in reverse order.\t\t\n",
        "a"
      ],
      "metadata": {
        "colab": {
          "base_uri": "https://localhost:8080/"
        },
        "id": "Y1b0fdcAqhbg",
        "outputId": "87a177dd-0c80-4089-8f43-534066e8a403"
      },
      "execution_count": 172,
      "outputs": [
        {
          "output_type": "execute_result",
          "data": {
            "text/plain": [
              "[5, 4, 3, 2, 1]"
            ]
          },
          "metadata": {},
          "execution_count": 172
        }
      ]
    },
    {
      "cell_type": "code",
      "source": [
        "a = [1, 2, 3, 4, 5]\n",
        "a.reverse()\t\t\t\t       # Reverse the order. Different from sorting.\t\n",
        "a\n"
      ],
      "metadata": {
        "colab": {
          "base_uri": "https://localhost:8080/"
        },
        "id": "Y2Rt4FRiqso8",
        "outputId": "1101d8c4-4a21-43c5-97a3-c347bc5aa276"
      },
      "execution_count": 173,
      "outputs": [
        {
          "output_type": "execute_result",
          "data": {
            "text/plain": [
              "[5, 4, 3, 2, 1]"
            ]
          },
          "metadata": {},
          "execution_count": 173
        }
      ]
    },
    {
      "cell_type": "code",
      "source": [
        "a = [3, 1, 5, 2, 4]\n",
        "sorted(a)\t\t\t         \t# Displays a sorted view."
      ],
      "metadata": {
        "colab": {
          "base_uri": "https://localhost:8080/"
        },
        "id": "cciucqjMqxAm",
        "outputId": "0e4b1be0-9e3c-4bf5-b9f1-037589c4ddde"
      },
      "execution_count": 177,
      "outputs": [
        {
          "output_type": "execute_result",
          "data": {
            "text/plain": [
              "[1, 2, 3, 4, 5]"
            ]
          },
          "metadata": {},
          "execution_count": 177
        }
      ]
    },
    {
      "cell_type": "code",
      "source": [
        "a                       # No permanent changes."
      ],
      "metadata": {
        "colab": {
          "base_uri": "https://localhost:8080/"
        },
        "id": "NJC6klNlrIMQ",
        "outputId": "8e97900e-542f-4de5-a9be-20de93f6768f"
      },
      "execution_count": 178,
      "outputs": [
        {
          "output_type": "execute_result",
          "data": {
            "text/plain": [
              "[3, 1, 5, 2, 4]"
            ]
          },
          "metadata": {},
          "execution_count": 178
        }
      ]
    },
    {
      "cell_type": "code",
      "source": [
        "a.index(5)"
      ],
      "metadata": {
        "colab": {
          "base_uri": "https://localhost:8080/"
        },
        "id": "djdn8pw2rZ8s",
        "outputId": "8ac1d7fe-5cbb-4558-c623-329b916f4a05"
      },
      "execution_count": 180,
      "outputs": [
        {
          "output_type": "execute_result",
          "data": {
            "text/plain": [
              "2"
            ]
          },
          "metadata": {},
          "execution_count": 180
        }
      ]
    }
  ]
}