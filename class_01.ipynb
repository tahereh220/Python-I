{
  "nbformat": 4,
  "nbformat_minor": 0,
  "metadata": {
    "colab": {
      "name": "class-01.ipynb",
      "provenance": [],
      "include_colab_link": true
    },
    "kernelspec": {
      "name": "python3",
      "display_name": "Python 3"
    },
    "language_info": {
      "name": "python"
    }
  },
  "cells": [
    {
      "cell_type": "markdown",
      "metadata": {
        "id": "view-in-github",
        "colab_type": "text"
      },
      "source": [
        "<a href=\"https://colab.research.google.com/github/tahereh220/Python-I-II/blob/main/class_01.ipynb\" target=\"_parent\"><img src=\"https://colab.research.google.com/assets/colab-badge.svg\" alt=\"Open In Colab\"/></a>"
      ]
    },
    {
      "cell_type": "markdown",
      "metadata": {
        "id": "JyG45Qk3qQLS"
      },
      "source": [
        "# Cells\n",
        "A notebook is a list of cells. Cells contain either explanatory text or executable code and its output. Click a cell to select it."
      ]
    },
    {
      "cell_type": "markdown",
      "metadata": {
        "id": "KR921S_OQSHG"
      },
      "source": [
        "## Code cells\n",
        "Below is a **code cell**. Once the toolbar button indicates CONNECTED, click in the cell to select it and execute the contents in the following ways:\n",
        "\n",
        "* Click the **Play icon** in the left gutter of the cell;\n",
        "* Type **Cmd/Ctrl+Enter** to run the cell in place;\n",
        "* Type **Shift+Enter** to run the cell and move focus to the next cell (adding one if none exists); or\n",
        "* Type **Alt+Enter** to run the cell and insert a new code cell immediately below it.\n",
        "\n",
        "There are additional options for running some or all cells in the **Runtime** menu.\n"
      ]
    },
    {
      "cell_type": "code",
      "execution_count": 13,
      "metadata": {
        "cellView": "both",
        "id": "WUtu4316QSHL",
        "colab": {
          "base_uri": "https://localhost:8080/"
        },
        "outputId": "f356b389-a479-44c9-a4b6-723e71889cfd"
      },
      "outputs": [
        {
          "output_type": "execute_result",
          "data": {
            "text/plain": [
              "10"
            ]
          },
          "metadata": {},
          "execution_count": 13
        }
      ],
      "source": [
        "a = 10\n",
        "a"
      ]
    },
    {
      "cell_type": "markdown",
      "metadata": {
        "id": "Id6tDF1HQSHD"
      },
      "source": [
        "## Text cells\n",
        "This is a **text cell**. You can **double-click** to edit this cell. Text cells\n",
        "use markdown syntax. To learn more, see our [markdown\n",
        "guide](/notebooks/markdown_guide.ipynb).\n",
        "\n",
        "You can also add math to text cells using [LaTeX](http://www.latex-project.org/)\n",
        "to be rendered by [MathJax](https://www.mathjax.org). Just place the statement\n",
        "within a pair of **\\$** signs. For example `$\\sqrt{3x-1}+(1+x)^2$` becomes\n",
        "$\\sqrt{3x-1}+(1+x)^2.$\n"
      ]
    },
    {
      "cell_type": "markdown",
      "metadata": {
        "id": "R_J2bPrMWspS"
      },
      "source": [
        "##Creating a Comment\n",
        "Comments starts with a #, and Python will ignore them:"
      ]
    },
    {
      "cell_type": "code",
      "execution_count": 23,
      "metadata": {
        "cellView": "both",
        "id": "5t5ThvzrWxDf",
        "colab": {
          "base_uri": "https://localhost:8080/"
        },
        "outputId": "55b01a75-f41b-40f4-f745-54229fdae72a"
      },
      "outputs": [
        {
          "output_type": "stream",
          "name": "stdout",
          "text": [
            "Hello, World!\n"
          ]
        }
      ],
      "source": [
        "#This is a comment\n",
        "print(\"Hello, World!\")"
      ]
    },
    {
      "cell_type": "markdown",
      "metadata": {
        "id": "U7y61Mz2X_1Z"
      },
      "source": [
        "##Python Data Types\n",
        "Variables can store data of different types.\n",
        "Python has the following data types built-in by default, in these categories:\n",
        "\n",
        "*   Text Type: **str**\n",
        "\n",
        ">\\n : Line change.\n",
        ">\n",
        ">\\t : Tab.\n",
        ">\n",
        ">\\\\ : Backslash character.\n",
        ">\n",
        ">\\r : Carriage return.\n",
        ">\n",
        ">\\a : Bell.\n",
        ">\n",
        ">\\b : Back space.\n",
        "\n",
        "\n",
        "*   Numeric Types: **int, float, complex**\n",
        "*   Boolean Type: **bool**\n",
        "*   Sequence Types: **list, tuple, range**\n",
        "*   Mapping Type: **dict**\n",
        "*   Set Types: **set, frozenset**\n",
        "*   Binary Types: **bytes, bytearray, memoryview**\n",
        "\n",
        "\n"
      ]
    },
    {
      "cell_type": "code",
      "execution_count": 15,
      "metadata": {
        "cellView": "both",
        "colab": {
          "base_uri": "https://localhost:8080/"
        },
        "id": "F-9zGwSgX_1g",
        "outputId": "89472b13-2dff-4deb-91fd-79ec18303fba"
      },
      "outputs": [
        {
          "output_type": "stream",
          "name": "stdout",
          "text": [
            "type(´Hi´) :  <class 'str'>\n",
            "type(5) :  <class 'int'>\n",
            "type(5.3) :  <class 'float'>\n",
            "type(5j) :  <class 'complex'>\n",
            "type(True) :  <class 'bool'>\n",
            "type(False) :  <class 'bool'>\n"
          ]
        }
      ],
      "source": [
        "print(\"type(´Hi´) : \", type(\"Hi!\"))\n",
        "print(\"type(5) : \", type(5))\n",
        "print(\"type(5.3) : \", type(5.3))\n",
        "print(\"type(5j) : \", type(5j))\n",
        "print(\"type(True) : \", type(True))\n",
        "print(\"type(False) : \", type(False))"
      ]
    },
    {
      "cell_type": "code",
      "source": [
        "print(\"He said:\\n'Python is very easy'\")"
      ],
      "metadata": {
        "colab": {
          "base_uri": "https://localhost:8080/"
        },
        "id": "YmIVfoT85HEO",
        "outputId": "c56e5bf4-040b-4d99-c638-f0796fd53aea"
      },
      "execution_count": 16,
      "outputs": [
        {
          "output_type": "stream",
          "name": "stdout",
          "text": [
            "He said:\n",
            "'Python is very easy'\n"
          ]
        }
      ]
    },
    {
      "cell_type": "code",
      "source": [
        "print('He said, \"Python is very easy\"')"
      ],
      "metadata": {
        "colab": {
          "base_uri": "https://localhost:8080/"
        },
        "id": "C03qYe3K5g7Z",
        "outputId": "62b3886b-3c22-4b4e-c8aa-cb9bde44a85b"
      },
      "execution_count": 17,
      "outputs": [
        {
          "output_type": "stream",
          "name": "stdout",
          "text": [
            "He said, \"Python is very easy\"\n"
          ]
        }
      ]
    },
    {
      "cell_type": "code",
      "source": [
        "print(3 + 6)"
      ],
      "metadata": {
        "id": "nF5O8DRqhrGW",
        "colab": {
          "base_uri": "https://localhost:8080/"
        },
        "outputId": "baccb0aa-0d7c-47de-c697-894b3103c08c"
      },
      "execution_count": 18,
      "outputs": [
        {
          "output_type": "stream",
          "name": "stdout",
          "text": [
            "9\n"
          ]
        }
      ]
    },
    {
      "cell_type": "code",
      "source": [
        "print(6 + 7.0)"
      ],
      "metadata": {
        "id": "DHRo3TiFhv76",
        "outputId": "7f5589fd-5929-41cc-d73e-bd4c96dd6849",
        "colab": {
          "base_uri": "https://localhost:8080/"
        }
      },
      "execution_count": 19,
      "outputs": [
        {
          "output_type": "stream",
          "name": "stdout",
          "text": [
            "13.0\n"
          ]
        }
      ]
    },
    {
      "cell_type": "code",
      "source": [
        "print(4 * 7)"
      ],
      "metadata": {
        "id": "met61koch37f",
        "outputId": "a6460d35-1a11-4532-8be1-4d8a08ac0508",
        "colab": {
          "base_uri": "https://localhost:8080/"
        }
      },
      "execution_count": 20,
      "outputs": [
        {
          "output_type": "stream",
          "name": "stdout",
          "text": [
            "28\n"
          ]
        }
      ]
    },
    {
      "cell_type": "code",
      "source": [
        "print(49 / 7)  # division always returns float"
      ],
      "metadata": {
        "id": "CwCC6uTaiDS0",
        "outputId": "cabe9d2f-febf-495e-8d37-6dfcd9d15a41",
        "colab": {
          "base_uri": "https://localhost:8080/"
        }
      },
      "execution_count": 21,
      "outputs": [
        {
          "output_type": "stream",
          "name": "stdout",
          "text": [
            "7.0\n"
          ]
        }
      ]
    },
    {
      "cell_type": "markdown",
      "metadata": {
        "id": "XfyU6xz0bA6q"
      },
      "source": [
        "##Python Arithmetic Operators\n",
        " \\+ : Addition\t\n",
        "> x + y\n",
        "\n",
        "\\- : Subtraction\n",
        "> x - y\t\n",
        "\n",
        "\\* : Multiplication\n",
        "> x * y\n",
        "\n",
        "/ : Division\n",
        "> x / y\t\n",
        "\n",
        "\\% : Modulus\n",
        "> x % y\t\n",
        "\n",
        "\\** : Exponentiation\n",
        "> x ** y\t\n",
        "\n",
        "\\// : Floor division\n",
        "> x // y\n"
      ]
    },
    {
      "cell_type": "code",
      "execution_count": 25,
      "metadata": {
        "cellView": "both",
        "id": "KygmTajkbA6y",
        "colab": {
          "base_uri": "https://localhost:8080/"
        },
        "outputId": "eb537fc1-f9a5-476e-def2-190e8191a67b"
      },
      "outputs": [
        {
          "output_type": "execute_result",
          "data": {
            "text/plain": [
              "9"
            ]
          },
          "metadata": {},
          "execution_count": 25
        }
      ],
      "source": [
        "3 ** 2"
      ]
    },
    {
      "cell_type": "code",
      "source": [
        "9 ** 0.5"
      ],
      "metadata": {
        "colab": {
          "base_uri": "https://localhost:8080/"
        },
        "id": "rq2TTe-u95LH",
        "outputId": "4a1edf92-8217-4a3a-8c9c-ad45fc32061b"
      },
      "execution_count": 39,
      "outputs": [
        {
          "output_type": "execute_result",
          "data": {
            "text/plain": [
              "3.0"
            ]
          },
          "metadata": {},
          "execution_count": 39
        }
      ]
    },
    {
      "cell_type": "code",
      "source": [
        "9 ** (-1)"
      ],
      "metadata": {
        "colab": {
          "base_uri": "https://localhost:8080/"
        },
        "id": "mBObWa5d-4XJ",
        "outputId": "38ae6578-5c6d-4844-ae2b-954f7939903a"
      },
      "execution_count": 43,
      "outputs": [
        {
          "output_type": "execute_result",
          "data": {
            "text/plain": [
              "0.1111111111111111"
            ]
          },
          "metadata": {},
          "execution_count": 43
        }
      ]
    },
    {
      "cell_type": "code",
      "source": [
        "69 / 2"
      ],
      "metadata": {
        "colab": {
          "base_uri": "https://localhost:8080/"
        },
        "id": "pzq8700g97II",
        "outputId": "0d1b4a95-02c2-4682-f70f-fbedcfc45510"
      },
      "execution_count": 37,
      "outputs": [
        {
          "output_type": "execute_result",
          "data": {
            "text/plain": [
              "34.5"
            ]
          },
          "metadata": {},
          "execution_count": 37
        }
      ]
    },
    {
      "cell_type": "code",
      "source": [
        "69 // 2"
      ],
      "metadata": {
        "colab": {
          "base_uri": "https://localhost:8080/"
        },
        "id": "qA8lHVJi-TE8",
        "outputId": "ff7133ed-d6ca-4ff2-b1d1-f2abdf4b7677"
      },
      "execution_count": 35,
      "outputs": [
        {
          "output_type": "execute_result",
          "data": {
            "text/plain": [
              "34"
            ]
          },
          "metadata": {},
          "execution_count": 35
        }
      ]
    },
    {
      "cell_type": "code",
      "source": [
        "69 % 2"
      ],
      "metadata": {
        "colab": {
          "base_uri": "https://localhost:8080/"
        },
        "id": "3rCVNReE-C8K",
        "outputId": "fdc84c62-cfa4-4cf0-9c03-088bf26242fd"
      },
      "execution_count": 38,
      "outputs": [
        {
          "output_type": "execute_result",
          "data": {
            "text/plain": [
              "1"
            ]
          },
          "metadata": {},
          "execution_count": 38
        }
      ]
    },
    {
      "cell_type": "markdown",
      "source": [
        "##Python string Concatenation (+) and Repetition (*)"
      ],
      "metadata": {
        "id": "63Nv4Pud_roJ"
      }
    },
    {
      "cell_type": "code",
      "source": [
        "str1 = 'First string, '\n",
        "str2 = 'Second string.'\n",
        "str1 + str2"
      ],
      "metadata": {
        "colab": {
          "base_uri": "https://localhost:8080/",
          "height": 35
        },
        "id": "bHaUgKxfCB3E",
        "outputId": "548bd17d-380a-476a-a3e1-a10b753d5081"
      },
      "execution_count": 46,
      "outputs": [
        {
          "output_type": "execute_result",
          "data": {
            "application/vnd.google.colaboratory.intrinsic+json": {
              "type": "string"
            },
            "text/plain": [
              "'First string, Second string.'"
            ]
          },
          "metadata": {},
          "execution_count": 46
        }
      ]
    },
    {
      "cell_type": "code",
      "source": [
        "str = 'Python '\n",
        "str * 3"
      ],
      "metadata": {
        "colab": {
          "base_uri": "https://localhost:8080/",
          "height": 35
        },
        "id": "2ykPN3zWCF1q",
        "outputId": "cb09a458-bf04-4bcd-8be0-37f80a321fcb"
      },
      "execution_count": 48,
      "outputs": [
        {
          "output_type": "execute_result",
          "data": {
            "application/vnd.google.colaboratory.intrinsic+json": {
              "type": "string"
            },
            "text/plain": [
              "'Python Python Python '"
            ]
          },
          "metadata": {},
          "execution_count": 48
        }
      ]
    },
    {
      "cell_type": "markdown",
      "source": [
        "##Python string Indexing and Slicing:\n",
        "\n",
        "* In Python, indices start from 0. So, the first character corresponds to the index 0!\n",
        "* Negative index means position from the end; index -1 corresponds to the last character. \n",
        "* An index range a:b includes a and excludes b.\n"
      ],
      "metadata": {
        "id": "ggRUWuFsCfJG"
      }
    },
    {
      "cell_type": "code",
      "source": [
        "str = 'Life is too short, You need Python!'\n",
        "str[0]"
      ],
      "metadata": {
        "colab": {
          "base_uri": "https://localhost:8080/",
          "height": 35
        },
        "id": "JFpqGZlkC6Dz",
        "outputId": "194e166a-0a9d-472b-fbcf-04524de10a5d"
      },
      "execution_count": 50,
      "outputs": [
        {
          "output_type": "execute_result",
          "data": {
            "application/vnd.google.colaboratory.intrinsic+json": {
              "type": "string"
            },
            "text/plain": [
              "'L'"
            ]
          },
          "metadata": {},
          "execution_count": 50
        }
      ]
    },
    {
      "cell_type": "code",
      "source": [
        "str[3]"
      ],
      "metadata": {
        "colab": {
          "base_uri": "https://localhost:8080/",
          "height": 35
        },
        "id": "zscwUW0ODLFj",
        "outputId": "a94c95a8-6536-427f-b567-bf360b26e27b"
      },
      "execution_count": 51,
      "outputs": [
        {
          "output_type": "execute_result",
          "data": {
            "application/vnd.google.colaboratory.intrinsic+json": {
              "type": "string"
            },
            "text/plain": [
              "'e'"
            ]
          },
          "metadata": {},
          "execution_count": 51
        }
      ]
    },
    {
      "cell_type": "code",
      "source": [
        "str[-1]"
      ],
      "metadata": {
        "colab": {
          "base_uri": "https://localhost:8080/",
          "height": 35
        },
        "id": "pezDWtvLDObL",
        "outputId": "a47ecbef-7ca8-4072-a819-04c152f0a347"
      },
      "execution_count": 53,
      "outputs": [
        {
          "output_type": "execute_result",
          "data": {
            "application/vnd.google.colaboratory.intrinsic+json": {
              "type": "string"
            },
            "text/plain": [
              "'!'"
            ]
          },
          "metadata": {},
          "execution_count": 53
        }
      ]
    },
    {
      "cell_type": "code",
      "source": [
        "str[0:4]"
      ],
      "metadata": {
        "colab": {
          "base_uri": "https://localhost:8080/",
          "height": 35
        },
        "id": "K22eHlMCDdW7",
        "outputId": "6317ce9c-342e-40d8-d746-9757fbb1d3fa"
      },
      "execution_count": 54,
      "outputs": [
        {
          "output_type": "execute_result",
          "data": {
            "application/vnd.google.colaboratory.intrinsic+json": {
              "type": "string"
            },
            "text/plain": [
              "'Life'"
            ]
          },
          "metadata": {},
          "execution_count": 54
        }
      ]
    },
    {
      "cell_type": "code",
      "source": [
        "str[:17]"
      ],
      "metadata": {
        "colab": {
          "base_uri": "https://localhost:8080/",
          "height": 35
        },
        "id": "bJ1Y7MlKDirq",
        "outputId": "ba7fa42d-4019-4c22-ce17-4abe06a3c08a"
      },
      "execution_count": 55,
      "outputs": [
        {
          "output_type": "execute_result",
          "data": {
            "application/vnd.google.colaboratory.intrinsic+json": {
              "type": "string"
            },
            "text/plain": [
              "'Life is too short'"
            ]
          },
          "metadata": {},
          "execution_count": 55
        }
      ]
    },
    {
      "cell_type": "code",
      "source": [
        "str[19:]"
      ],
      "metadata": {
        "colab": {
          "base_uri": "https://localhost:8080/",
          "height": 35
        },
        "id": "pb2f00jyDmRC",
        "outputId": "68de5d02-a3c3-4958-9127-88981b53f100"
      },
      "execution_count": 56,
      "outputs": [
        {
          "output_type": "execute_result",
          "data": {
            "application/vnd.google.colaboratory.intrinsic+json": {
              "type": "string"
            },
            "text/plain": [
              "'You need Python!'"
            ]
          },
          "metadata": {},
          "execution_count": 56
        }
      ]
    },
    {
      "cell_type": "code",
      "source": [
        ""
      ],
      "metadata": {
        "id": "PV77-9YLDqvt"
      },
      "execution_count": null,
      "outputs": []
    },
    {
      "cell_type": "markdown",
      "source": [
        "\n",
        "##Some of the useful Python string methods:\n",
        "\n",
        "* **x.count(str)** : Count the string pattern.\n",
        "* **x.find(str)** : Position of  the first match. -1 if no match is found.\n",
        "* **x.index(str)** : Position of the first match. Error if no match is found.\n",
        "* **len(x)** : String length. This is not a string method but a built-in Python function.\n",
        "* **x.lstrip()**\tTrim left white spaces.\n",
        "* **x.rstrip()** : Trim right white spaces.\n",
        "* **x.strip()** : Trim white spaces from both sides.\n",
        "* **x.replace(str1, str2)** : Replace string from str1 to str2.\n",
        "* **x.join(str_list)** : Join the string list items using x as connector.\n",
        "* **x.split(y)** : Split a string by y.\n",
        "* **x.upper()** : Convert to the upper case.\n",
        "* **x.lower()** : Convert to the lower case.\n"
      ],
      "metadata": {
        "id": "qH_uI6jcB-8n"
      }
    },
    {
      "cell_type": "code",
      "source": [
        "x = 'Python'\n",
        "len(x)\t\t\t\t# String length. This is a Python built-in function.\n"
      ],
      "metadata": {
        "colab": {
          "base_uri": "https://localhost:8080/"
        },
        "id": "Zdp1XvQv-Kvc",
        "outputId": "9c6e5fcb-b626-4267-8914-ba0350a67cee"
      },
      "execution_count": 58,
      "outputs": [
        {
          "output_type": "execute_result",
          "data": {
            "text/plain": [
              "6"
            ]
          },
          "metadata": {},
          "execution_count": 58
        }
      ]
    },
    {
      "cell_type": "code",
      "source": [
        "x.count('h')\t\t\t\t# Counts the 'h' character."
      ],
      "metadata": {
        "colab": {
          "base_uri": "https://localhost:8080/"
        },
        "id": "AwEVtxEiEzyc",
        "outputId": "5194d4a4-ece3-4b15-9695-f9bad1060fca"
      },
      "execution_count": 59,
      "outputs": [
        {
          "output_type": "execute_result",
          "data": {
            "text/plain": [
              "1"
            ]
          },
          "metadata": {},
          "execution_count": 59
        }
      ]
    },
    {
      "cell_type": "code",
      "source": [
        "x.upper()\t\t\t\t# Convert to the uppercase."
      ],
      "metadata": {
        "colab": {
          "base_uri": "https://localhost:8080/",
          "height": 35
        },
        "id": "MYvEgnLwE8VI",
        "outputId": "d0a1d83e-9a48-4b11-fe59-7d1dee71a929"
      },
      "execution_count": 60,
      "outputs": [
        {
          "output_type": "execute_result",
          "data": {
            "application/vnd.google.colaboratory.intrinsic+json": {
              "type": "string"
            },
            "text/plain": [
              "'PYTHON'"
            ]
          },
          "metadata": {},
          "execution_count": 60
        }
      ]
    },
    {
      "cell_type": "code",
      "source": [
        "x.lower()\t\t\t\t# Convert to the lowercase."
      ],
      "metadata": {
        "colab": {
          "base_uri": "https://localhost:8080/",
          "height": 35
        },
        "id": "fiYAJn7iFhMW",
        "outputId": "5b9aa889-a812-47bd-d164-29d515ac4c37"
      },
      "execution_count": 61,
      "outputs": [
        {
          "output_type": "execute_result",
          "data": {
            "application/vnd.google.colaboratory.intrinsic+json": {
              "type": "string"
            },
            "text/plain": [
              "'python'"
            ]
          },
          "metadata": {},
          "execution_count": 61
        }
      ]
    },
    {
      "cell_type": "code",
      "source": [
        "x = 'Python'\n",
        "x.find('o')\t\t\t\t# Position of the 'o'.\n"
      ],
      "metadata": {
        "colab": {
          "base_uri": "https://localhost:8080/"
        },
        "id": "lJ16EQUsFjhd",
        "outputId": "18a2a68f-e2fc-498a-bbcd-f9504818e55a"
      },
      "execution_count": 62,
      "outputs": [
        {
          "output_type": "execute_result",
          "data": {
            "text/plain": [
              "4"
            ]
          },
          "metadata": {},
          "execution_count": 62
        }
      ]
    },
    {
      "cell_type": "code",
      "source": [
        "x.find('w')\t\t\t\t# Look for the position of the 'w'. No match.\n"
      ],
      "metadata": {
        "colab": {
          "base_uri": "https://localhost:8080/"
        },
        "id": "CtLYhp41FoEq",
        "outputId": "f294f858-e38d-4c0d-da00-f6ad207a85f6"
      },
      "execution_count": 63,
      "outputs": [
        {
          "output_type": "execute_result",
          "data": {
            "text/plain": [
              "-1"
            ]
          },
          "metadata": {},
          "execution_count": 63
        }
      ]
    },
    {
      "cell_type": "code",
      "source": [
        "x.index('o')\t\t\t\t# Look for the position of the 'o'.\n"
      ],
      "metadata": {
        "colab": {
          "base_uri": "https://localhost:8080/"
        },
        "id": "kEnP0UebFqlM",
        "outputId": "57b7570c-3e48-4770-9d2a-67e52bdd6ed4"
      },
      "execution_count": 64,
      "outputs": [
        {
          "output_type": "execute_result",
          "data": {
            "text/plain": [
              "4"
            ]
          },
          "metadata": {},
          "execution_count": 64
        }
      ]
    },
    {
      "cell_type": "code",
      "source": [
        "x.index('w')\t\t\t\t# Look for the position of the 'w'. No match."
      ],
      "metadata": {
        "colab": {
          "base_uri": "https://localhost:8080/",
          "height": 165
        },
        "id": "cU8GXk3eFtzZ",
        "outputId": "1696abb7-a8e3-4c97-a0d4-ab4251402c42"
      },
      "execution_count": 65,
      "outputs": [
        {
          "output_type": "error",
          "ename": "ValueError",
          "evalue": "ignored",
          "traceback": [
            "\u001b[0;31m---------------------------------------------------------------------------\u001b[0m",
            "\u001b[0;31mValueError\u001b[0m                                Traceback (most recent call last)",
            "\u001b[0;32m<ipython-input-65-8daf5be43b1a>\u001b[0m in \u001b[0;36m<module>\u001b[0;34m()\u001b[0m\n\u001b[0;32m----> 1\u001b[0;31m \u001b[0mx\u001b[0m\u001b[0;34m.\u001b[0m\u001b[0mindex\u001b[0m\u001b[0;34m(\u001b[0m\u001b[0;34m'w'\u001b[0m\u001b[0;34m)\u001b[0m                            \u001b[0;31m# Look for the position of the 'w'. No match.\u001b[0m\u001b[0;34m\u001b[0m\u001b[0;34m\u001b[0m\u001b[0m\n\u001b[0m",
            "\u001b[0;31mValueError\u001b[0m: substring not found"
          ]
        }
      ]
    },
    {
      "cell_type": "code",
      "source": [
        "x = 'Life is too short, You need Python!'\n",
        "x.split(' ')                                                                      \t\t  # The output is a list (*).\n"
      ],
      "metadata": {
        "colab": {
          "base_uri": "https://localhost:8080/"
        },
        "id": "eFPTwzN5FzA0",
        "outputId": "812664f2-2d4e-47a7-828c-273f73580ce5"
      },
      "execution_count": 66,
      "outputs": [
        {
          "output_type": "execute_result",
          "data": {
            "text/plain": [
              "['Life', 'is', 'too', 'short,', 'You', 'need', 'Python!']"
            ]
          },
          "metadata": {},
          "execution_count": 66
        }
      ]
    },
    {
      "cell_type": "code",
      "source": [
        "y = x.split(' ')\n",
        "print(\"y = \", y)\n",
        "a = '_'\n",
        "print(\"a.join(y) = \", a.join(y))\n"
      ],
      "metadata": {
        "colab": {
          "base_uri": "https://localhost:8080/"
        },
        "id": "JtrDvLB7GJrz",
        "outputId": "a6cc7400-9e2e-46e4-f95f-705e7e4389d2"
      },
      "execution_count": 73,
      "outputs": [
        {
          "output_type": "stream",
          "name": "stdout",
          "text": [
            "y =  ['Life', 'is', 'too', 'short,', 'You', 'need', 'Python!']\n",
            "a.join(y) =  Life_is_too_short,_You_need_Python!\n"
          ]
        }
      ]
    },
    {
      "cell_type": "markdown",
      "source": [
        "##Python Logical Operators\n",
        "* **and** : Returns True if both statements are true\t\n",
        "* **or** : Returns True if one of the statements is true\n",
        "* **not** : Reverse the result, returns False if the result is true\n"
      ],
      "metadata": {
        "id": "JwKDRrLHIkyC"
      }
    },
    {
      "cell_type": "code",
      "source": [
        "False and True"
      ],
      "metadata": {
        "colab": {
          "base_uri": "https://localhost:8080/"
        },
        "id": "zfYS2tl1JCgO",
        "outputId": "f2574c44-02c6-4171-b1c8-882492575c87"
      },
      "execution_count": 78,
      "outputs": [
        {
          "output_type": "execute_result",
          "data": {
            "text/plain": [
              "False"
            ]
          },
          "metadata": {},
          "execution_count": 78
        }
      ]
    },
    {
      "cell_type": "code",
      "source": [
        "not(2 == 3)"
      ],
      "metadata": {
        "colab": {
          "base_uri": "https://localhost:8080/"
        },
        "id": "izOaxufzKIEq",
        "outputId": "039afcdb-2d3e-46f7-fe6b-e4d8c7999f03"
      },
      "execution_count": 86,
      "outputs": [
        {
          "output_type": "execute_result",
          "data": {
            "text/plain": [
              "True"
            ]
          },
          "metadata": {},
          "execution_count": 86
        }
      ]
    },
    {
      "cell_type": "code",
      "source": [
        "2 >= 1"
      ],
      "metadata": {
        "colab": {
          "base_uri": "https://localhost:8080/"
        },
        "id": "PZWGEGpPKRsm",
        "outputId": "08edc6cc-c32e-42f3-893a-211df13d1eb9"
      },
      "execution_count": 82,
      "outputs": [
        {
          "output_type": "execute_result",
          "data": {
            "text/plain": [
              "True"
            ]
          },
          "metadata": {},
          "execution_count": 82
        }
      ]
    },
    {
      "cell_type": "code",
      "source": [
        "5 < 4"
      ],
      "metadata": {
        "colab": {
          "base_uri": "https://localhost:8080/"
        },
        "id": "3AChqtWoKV_R",
        "outputId": "7b985964-53b7-4eda-eb6f-69f385991796"
      },
      "execution_count": 85,
      "outputs": [
        {
          "output_type": "execute_result",
          "data": {
            "text/plain": [
              "False"
            ]
          },
          "metadata": {},
          "execution_count": 85
        }
      ]
    },
    {
      "cell_type": "markdown",
      "source": [
        "##Python Variables\n",
        "\n",
        "* Variables are containers for storing data values.\n",
        "* Python has no command for declaring a variable.\n",
        "* A variable is created the moment you first assign a value to it (dynamic type).\n",
        "* Name of a variable can start with a letter or _\n",
        "* Variable names are case sensitive"
      ],
      "metadata": {
        "id": "ZSrRbLCvJ4tQ"
      }
    },
    {
      "cell_type": "code",
      "source": [
        "x = 5\n",
        "print(type(x))"
      ],
      "metadata": {
        "id": "0YEt9hR_Pp9N",
        "outputId": "5acdb04b-102e-4b3e-ec75-5bdb1f88377f",
        "colab": {
          "base_uri": "https://localhost:8080/"
        }
      },
      "execution_count": 96,
      "outputs": [
        {
          "output_type": "stream",
          "name": "stdout",
          "text": [
            "<class 'int'>\n"
          ]
        }
      ]
    },
    {
      "cell_type": "code",
      "source": [
        "y = \"hello\"\n",
        "print(type(y))"
      ],
      "metadata": {
        "id": "Mh56j-_mP-1a",
        "outputId": "1d063557-31c3-43ee-dbad-05e094538885",
        "colab": {
          "base_uri": "https://localhost:8080/"
        }
      },
      "execution_count": 97,
      "outputs": [
        {
          "output_type": "stream",
          "name": "stdout",
          "text": [
            "<class 'str'>\n"
          ]
        }
      ]
    },
    {
      "cell_type": "code",
      "source": [
        "x = y\n",
        "print(type(x))"
      ],
      "metadata": {
        "id": "LuAG8Kn5QEYN",
        "outputId": "2328b6a2-3aaf-4400-f47b-b31ef085aa58",
        "colab": {
          "base_uri": "https://localhost:8080/"
        }
      },
      "execution_count": 99,
      "outputs": [
        {
          "output_type": "stream",
          "name": "stdout",
          "text": [
            "<class 'str'>\n"
          ]
        }
      ]
    },
    {
      "cell_type": "code",
      "source": [
        "x = 2\n",
        "y = 1.5\n",
        "x = x + y\n",
        "print(x)"
      ],
      "metadata": {
        "id": "5FGCqH1EQO1w",
        "outputId": "de432de3-9ac8-450d-a954-3ece63c51c3a",
        "colab": {
          "base_uri": "https://localhost:8080/"
        }
      },
      "execution_count": 101,
      "outputs": [
        {
          "output_type": "stream",
          "name": "stdout",
          "text": [
            "3.5\n"
          ]
        }
      ]
    },
    {
      "cell_type": "markdown",
      "source": [
        "##Variable Naming Conventions\n",
        "\n",
        "* Snakecase: Words are delimited by an underscore.\n",
        "* Pascalcase: Words are delimited by capital letters.\n",
        "* Camelcase: Words are delimited by capital letters, except the initial word."
      ],
      "metadata": {
        "id": "bpvD__F8Q3Ul"
      }
    },
    {
      "cell_type": "code",
      "source": [
        "my_age = 23  # snake case variable naming\n",
        "\n",
        "myAge = 23  # camel case variable naming\n",
        "\n",
        "MyAge = 23  # pascal case\n",
        "\n",
        "PI = 3.14  # used for constants"
      ],
      "metadata": {
        "id": "jFRiqcF3SO9x"
      },
      "execution_count": null,
      "outputs": []
    }
  ]
}