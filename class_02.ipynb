{
  "nbformat": 4,
  "nbformat_minor": 0,
  "metadata": {
    "colab": {
      "name": "Copy of Copy of Copy of Untitled1.ipynb",
      "provenance": [],
      "collapsed_sections": [],
      "include_colab_link": true
    },
    "kernelspec": {
      "name": "python3",
      "display_name": "Python 3"
    },
    "language_info": {
      "name": "python"
    }
  },
  "cells": [
    {
      "cell_type": "markdown",
      "metadata": {
        "id": "view-in-github",
        "colab_type": "text"
      },
      "source": [
        "<a href=\"https://colab.research.google.com/github/tn-220/Python-I-II/blob/main/class_02.ipynb\" target=\"_parent\"><img src=\"https://colab.research.google.com/assets/colab-badge.svg\" alt=\"Open In Colab\"/></a>"
      ]
    },
    {
      "cell_type": "markdown",
      "source": [
        "**Modifying a list: careful with the following differences.**"
      ],
      "metadata": {
        "id": "QoMmDXchmYcw"
      }
    },
    {
      "cell_type": "code",
      "source": [
        "a = [1, 2, 3]\n",
        "a[1:2] = [-1, -2, -3]\t\t\t             # Partial change of the list values.\n",
        "a"
      ],
      "metadata": {
        "id": "yqDhocGJmfI_"
      },
      "execution_count": null,
      "outputs": []
    },
    {
      "cell_type": "code",
      "source": [
        "a = [1, 2, 3]\n",
        "a[1] = [-1, -2, -3]\t\t\t                # An entry is replaced by another list.\n",
        "a[1] = -2 \n",
        "a"
      ],
      "metadata": {
        "id": "qAxJ9gQlmq4N"
      },
      "execution_count": null,
      "outputs": []
    },
    {
      "cell_type": "markdown",
      "source": [
        "**Modifying a list: partial removal.**"
      ],
      "metadata": {
        "id": "E2gD0pgrnAfj"
      }
    },
    {
      "cell_type": "code",
      "source": [
        "a = [1, 2, 3, 4, 5]\n",
        "a[1:3] = []\t\t\t\t# Partial removal.\n",
        "a"
      ],
      "metadata": {
        "id": "PzztU1MFnEL7"
      },
      "execution_count": null,
      "outputs": []
    },
    {
      "cell_type": "code",
      "source": [
        "a = [1, 2, 3, 4, 5]\n",
        "del a[2]\t\t\t\t# Removes a specific entry using del keyword\n",
        "a"
      ],
      "metadata": {
        "id": "_bQ4syfWnFeM"
      },
      "execution_count": null,
      "outputs": []
    },
    {
      "cell_type": "markdown",
      "source": [
        "##Python list methods:\n",
        "* **x.insert(pos, val) :** Insert a value at a specified position.\n",
        "* **x.remove(val) :** Remove a specific value from a list.\n",
        "* **x.pop() :** Remove and return the last value of a list.\n",
        "* **x.count(val) :** Count the appearances of a value in a list.\n",
        "* **x.extend(y) :** Extend the list x with another list y. Means  x = x + y.\n",
        "* **x.append(val) :** Appends a value as an entry.\n",
        "* **x.sort() :** Sorting of a list.\n",
        "* **x.reverse() :** Reversal of the entry ordering.\n",
        "* **x.index(val) :** Looks for the position of a specific value. Error if no match is found.\n",
        "* **len(x) :** Total number of entries in a list. A built-in Python function.\n",
        "\n",
        "\n"
      ],
      "metadata": {
        "id": "DycYd6zKpiQO"
      }
    },
    {
      "cell_type": "code",
      "source": [
        "a = [1, 2, 3, 4, 5]\n",
        "a.insert(3, 5)\n",
        "print(a)\n",
        "a.insert(3, [5,\"a\",5])\n",
        "a.insert(4, 6)\n",
        "print(a)\n",
        "print(a[3][1])"
      ],
      "metadata": {
        "id": "brWLE_R5YPWM"
      },
      "execution_count": null,
      "outputs": []
    },
    {
      "cell_type": "code",
      "source": [
        "a = [3, 1, 5, 2, 4]\n",
        "x = [\"a\", \"d\", \"b\"]\n",
        "a.sort(reverse=False)\t      \t\t\t# Sorting of a list object (lasting effect).\n",
        "print(a)\n",
        "x.sort()\n",
        "print(x)"
      ],
      "metadata": {
        "id": "eUUo3D8pqGX1"
      },
      "execution_count": null,
      "outputs": []
    },
    {
      "cell_type": "code",
      "source": [
        "a = [1, 2, 3]\n",
        "a.append(4)\t\t\t    \t# A value is added as an entry. \t\t\n",
        "print(a)\n",
        "a.append([5,6])\t\t \t\t# A list is added as an entry.\n",
        "print(a)"
      ],
      "metadata": {
        "id": "P1eHAx6Zqbzl"
      },
      "execution_count": null,
      "outputs": []
    },
    {
      "cell_type": "code",
      "source": [
        "a = [3, 1, 5, 2, 4]\n",
        "a.sort(reverse=True)\t\t\t# Sorting in reverse order.\t\t\n",
        "a"
      ],
      "metadata": {
        "id": "Y1b0fdcAqhbg"
      },
      "execution_count": null,
      "outputs": []
    },
    {
      "cell_type": "code",
      "source": [
        "a = [1, 2, 3, 4, 5]\n",
        "a.reverse()\t\t\t\t       # Reverse the order. Different from sorting.\t\n",
        "a\n"
      ],
      "metadata": {
        "id": "Y2Rt4FRiqso8"
      },
      "execution_count": null,
      "outputs": []
    },
    {
      "cell_type": "code",
      "source": [
        "a = [3, 1, 1, 1, 2, 4]\n",
        "x = sorted(a)\n",
        "print(x)\t\t\t         \t# Displays a sorted view.\n",
        "print(a)"
      ],
      "metadata": {
        "id": "cciucqjMqxAm"
      },
      "execution_count": null,
      "outputs": []
    },
    {
      "cell_type": "code",
      "source": [
        "a                       # No permanent changes."
      ],
      "metadata": {
        "id": "NJC6klNlrIMQ"
      },
      "execution_count": null,
      "outputs": []
    },
    {
      "cell_type": "code",
      "source": [
        "a.index(1)"
      ],
      "metadata": {
        "id": "djdn8pw2rZ8s"
      },
      "execution_count": null,
      "outputs": []
    },
    {
      "cell_type": "markdown",
      "source": [
        "##Follow practice steps on 'ex_0103.ipynb' "
      ],
      "metadata": {
        "id": "7lHh9fXejlwy"
      }
    },
    {
      "cell_type": "markdown",
      "source": [
        "#Conditional Structure "
      ],
      "metadata": {
        "id": "bN61rps24cWu"
      }
    },
    {
      "cell_type": "markdown",
      "source": [
        "##Conditional structure **if-else**:\n",
        "\n",
        "![image.png](data:image/png;base64,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)\n",
        "\n"
      ],
      "metadata": {
        "id": "QmFpqMplrWOE"
      }
    },
    {
      "cell_type": "markdown",
      "source": [
        "##Comparison Operator\n",
        "\n",
        "Comparison operators can be used to construct conditional expressions. \n",
        "\n",
        "\n",
        "*   **x < y** \t: True if x is less than y.\n",
        "*   **x > y** \t: True if x is greater than y.\n",
        "*   **x == y**\t: True if x and y are equal.\n",
        "*   **x != y**\t: True if x and y are unequal.\n",
        "*   **x >= y**\t: True if x is greater than or equal to y.\n",
        "*   **x <= y**\t: True if x is less than or equal to y.\n",
        "\n",
        "\n"
      ],
      "metadata": {
        "id": "s1xlajBGFqwM"
      }
    },
    {
      "cell_type": "markdown",
      "source": [
        "##Membership operators \n",
        "\n",
        "Membership operators can be used to construct conditional expressions.\n",
        "\n",
        "*   **x in y** : True if x is present in y.\n",
        "*   **x not in y** : True if x is not present in y.\n"
      ],
      "metadata": {
        "id": "LQetQWYEigUJ"
      }
    },
    {
      "cell_type": "code",
      "source": [
        "print(1 in [1, 2, 3]) # Whether 1 is present in the list [1, 2, 3]."
      ],
      "metadata": {
        "id": "bBH5aNMveCXQ"
      },
      "execution_count": null,
      "outputs": []
    },
    {
      "cell_type": "code",
      "source": [
        "print(1 not in (1, 2, 3)) # Whether 1 is present in the tuple (1, 2, 3)."
      ],
      "metadata": {
        "id": "-aPzZiYhvy2_"
      },
      "execution_count": null,
      "outputs": []
    },
    {
      "cell_type": "code",
      "source": [
        "print('o' in 'Python') # Whether letter 'o' is present in the string 'Python'."
      ],
      "metadata": {
        "id": "2eft8YlUvzTR"
      },
      "execution_count": null,
      "outputs": []
    },
    {
      "cell_type": "code",
      "source": [
        "print(1 in int)"
      ],
      "metadata": {
        "id": "pGO6TvzDgDMk"
      },
      "execution_count": null,
      "outputs": []
    },
    {
      "cell_type": "markdown",
      "source": [
        "##Identity Operator\n",
        "Identity operators can be used to construct conditional expressions.\n",
        "\n",
        "\n",
        "\n",
        "\n",
        "*   **x is y** : True if x and y are the same object.\n",
        "*   **x  is not y** : True if x and y are not the same object.\n",
        "\n",
        "\n"
      ],
      "metadata": {
        "id": "0Ay76-qu7GP8"
      }
    },
    {
      "cell_type": "code",
      "source": [
        "a = 5\n",
        "b = a\n",
        "c = 5\n",
        "d = 5.0\n",
        "print(a is b)\n",
        "print(b is 5)\n",
        "print( c is a)\n",
        "print(d is a)"
      ],
      "metadata": {
        "id": "H7Lrw903gaua"
      },
      "execution_count": null,
      "outputs": []
    },
    {
      "cell_type": "markdown",
      "source": [
        "##Boolean Operator\n",
        "Boolean operators can be used to construct conditional expressions.\n",
        "\n",
        "*   **x and y**: True if both x and y are True.\n",
        "*   **x or y :** True if either x or y is True.\n",
        "*   **not x :** True if x is False or vice versa."
      ],
      "metadata": {
        "id": "tNOifcdBE0Ht"
      }
    },
    {
      "cell_type": "code",
      "source": [
        "print(not True)\n",
        "print(not 5-5)\n",
        "print(not \"\")\n",
        "print(not 5)"
      ],
      "metadata": {
        "id": "pGFTqKDTg-GU"
      },
      "execution_count": null,
      "outputs": []
    },
    {
      "cell_type": "code",
      "source": [
        "num = 3\n",
        "if num > 0:\n",
        "    print(num, \"is a positive number.\")\n",
        "    print(\"second line\")\n",
        "print(\"This is always printed.\")\n",
        "\n"
      ],
      "metadata": {
        "id": "6lly66bUezR_"
      },
      "execution_count": null,
      "outputs": []
    },
    {
      "cell_type": "code",
      "source": [
        "num = -1\n",
        "if num > 0:\n",
        "    print(num, \"is a positive number.\")\n",
        "print(\"This is also always printed.\")"
      ],
      "metadata": {
        "id": "EXZ9xR6ve4Ot"
      },
      "execution_count": null,
      "outputs": []
    },
    {
      "cell_type": "code",
      "source": [],
      "metadata": {
        "id": "8F-ikQepe59b"
      },
      "execution_count": null,
      "outputs": []
    },
    {
      "cell_type": "markdown",
      "source": [
        "#Loop Structure"
      ],
      "metadata": {
        "id": "N9ePuFBMGvfz"
      }
    },
    {
      "cell_type": "markdown",
      "source": [
        "##Looping with while:\n",
        "\n",
        "![image.png](data:image/png;base64,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)"
      ],
      "metadata": {
        "id": "qzoKpUB8GUv1"
      }
    },
    {
      "cell_type": "code",
      "source": [
        "i = 0\n",
        "while i < 4:    # Exit the loop as soon as i becomes 4 . \n",
        "  print(i) \n",
        "  i += 1        # i increases within the code block.\n"
      ],
      "metadata": {
        "id": "2ClL_BTIHUXX"
      },
      "execution_count": null,
      "outputs": []
    },
    {
      "cell_type": "markdown",
      "source": [
        "**What is the value of x**\n"
      ],
      "metadata": {
        "id": "nEqYyZWIflNu"
      }
    },
    {
      "cell_type": "code",
      "source": [
        "\n",
        "x = 1\n",
        "while (x < 100):\n",
        "  x+=2\n",
        "\n",
        "print(x)"
      ],
      "metadata": {
        "id": "S5YIm5RCfoLP"
      },
      "execution_count": null,
      "outputs": []
    },
    {
      "cell_type": "markdown",
      "source": [
        "##Looping with for: \n",
        "![image.png](data:image/png;base64,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)\n",
        "\n"
      ],
      "metadata": {
        "id": "AZ8oGO7nH3Ah"
      }
    },
    {
      "cell_type": "code",
      "source": [
        "#note:\n",
        "for <variable> in <list, tuple, set, str, etc.>: # Use of an iterable object. \n",
        "<Instruction                                     \n",
        "<Instruction                                     \n",
        "...\n"
      ],
      "metadata": {
        "id": "Mdu8X5QCIZP9"
      },
      "execution_count": null,
      "outputs": []
    },
    {
      "cell_type": "code",
      "source": [
        "X = ['You', 'need', 'Python!']\n",
        "for x in X: \n",
        "  print(x)"
      ],
      "metadata": {
        "id": "y-f1f8zjIrux"
      },
      "execution_count": null,
      "outputs": []
    },
    {
      "cell_type": "code",
      "source": [
        "sum = 0\n",
        "for x in range(0, 11, 3):  # Iterate from 1 to 10. \n",
        "  sum += x\n",
        "  print(x, \":\", sum)"
      ],
      "metadata": {
        "id": "joTIVl4_I7vT"
      },
      "execution_count": null,
      "outputs": []
    },
    {
      "cell_type": "markdown",
      "source": [
        "**What is the output of the following nested loop?**"
      ],
      "metadata": {
        "id": "JFl9EjnJesVP"
      }
    },
    {
      "cell_type": "code",
      "source": [
        "numbers = [10, 20]\n",
        "items = [\"Chair\", \"Table\"]\n",
        "\n",
        "for x in numbers:\n",
        "  for y in items:\n",
        "    print(x, y)"
      ],
      "metadata": {
        "id": "WidV-RZgexXw"
      },
      "execution_count": null,
      "outputs": []
    },
    {
      "cell_type": "markdown",
      "source": [
        "**Given the nested if-else below, what will be the value x when the code executed successfully**"
      ],
      "metadata": {
        "id": "qOF_ysD4e_sc"
      }
    },
    {
      "cell_type": "code",
      "source": [
        "\n",
        "x = 0\n",
        "a = 5\n",
        "b = 5\n",
        "if a > 0:\n",
        "    if b < 0: \n",
        "        x = x + 5 \n",
        "    elif a > 5:\n",
        "        x = x + 4\n",
        "    else:\n",
        "        x = x + 3\n",
        "else:\n",
        "    x = x + 2\n",
        "print(x)"
      ],
      "metadata": {
        "id": "6Y1QjNDpe8ul"
      },
      "execution_count": null,
      "outputs": []
    },
    {
      "cell_type": "markdown",
      "source": [
        "**What is the output of the following loop**\n"
      ],
      "metadata": {
        "id": "8f8yBNp8fRL8"
      }
    },
    {
      "cell_type": "code",
      "source": [
        "\n",
        "for i in 'Jhon':\n",
        "   if i == 'o':\n",
        "      print(end=\"It is O , \")\n",
        "   print(i, end=\", \")"
      ],
      "metadata": {
        "id": "8ncZfzu1fQsL"
      },
      "execution_count": null,
      "outputs": []
    },
    {
      "cell_type": "markdown",
      "source": [
        "**What is the output of the following nested loop?**\n"
      ],
      "metadata": {
        "id": "_ocEJpzZf56h"
      }
    },
    {
      "cell_type": "code",
      "source": [
        "\n",
        "for num in range(10, 14):\n",
        "   for i in range(2, num):\n",
        "       if num%i == 1:\n",
        "          print(num, \" : \", i)\n",
        "          break"
      ],
      "metadata": {
        "id": "yq3N8zT4f8_Y"
      },
      "execution_count": null,
      "outputs": []
    },
    {
      "cell_type": "markdown",
      "source": [
        "**Print half pyramid using** *\n",
        "\n",
        "\\*\n",
        "\n",
        "\\* *\n",
        "\n",
        "\\* * *\n",
        "\n",
        "\\* * * *\n",
        "\n",
        "\\* * * * *"
      ],
      "metadata": {
        "id": "ESPDMTDjgVOn"
      }
    },
    {
      "cell_type": "code",
      "source": [
        "x = \"*\"\n",
        "for i in range(1, 7):\n",
        "  print(x * i)"
      ],
      "metadata": {
        "id": "_1fL4e70o6Yd"
      },
      "execution_count": null,
      "outputs": []
    },
    {
      "cell_type": "code",
      "source": [
        "rows = int(input(\"Enter number of rows: \"))\n",
        "\n",
        "for i in range(rows):\n",
        "    for j in range(i+1):\n",
        "        print(\"* \", end=\"\")\n",
        "    print(\"\\n\")\n"
      ],
      "metadata": {
        "id": "2MY-8xvcoIuf"
      },
      "execution_count": null,
      "outputs": []
    },
    {
      "cell_type": "code",
      "source": [
        "for i in range(5,20):\n",
        "  print(i, end=\", \")"
      ],
      "metadata": {
        "id": "NV8DcKUzsv-C"
      },
      "execution_count": null,
      "outputs": []
    },
    {
      "cell_type": "code",
      "source": [
        "for i in range(5,20,2):\n",
        "  print(i, end=\", \")"
      ],
      "metadata": {
        "id": "Q_j9eo1BsmrZ"
      },
      "execution_count": null,
      "outputs": []
    },
    {
      "cell_type": "code",
      "source": [
        "for i in range(20, 5, -2):\n",
        "  print(i, end=\", \")"
      ],
      "metadata": {
        "id": "9bcEFXxetGCx"
      },
      "execution_count": null,
      "outputs": []
    },
    {
      "cell_type": "markdown",
      "source": [
        "**Print inverted half pyramid using * and numbers**"
      ],
      "metadata": {
        "id": "e9EDFxTrhGq1"
      }
    },
    {
      "cell_type": "code",
      "source": [
        "x=\"*\"\n",
        "for i in range(1,7):\n",
        "  print(x*(7-i))"
      ],
      "metadata": {
        "id": "-mKsZvv0tvVu"
      },
      "execution_count": null,
      "outputs": []
    },
    {
      "cell_type": "code",
      "source": [
        "rows = int(input(\"Enter number of rows: \"))\n",
        "\n",
        "for i in range(rows, 0, -1):\n",
        "    for j in range(0, i):\n",
        "        print(\"* \", end=\" \")\n",
        "    \n",
        "    print(\"\\n\")\n"
      ],
      "metadata": {
        "id": "34sVo4Earxyf"
      },
      "execution_count": null,
      "outputs": []
    },
    {
      "cell_type": "markdown",
      "source": [
        "**print full pyramid using** *\n",
        "at home"
      ],
      "metadata": {
        "id": "oh6MqgH-gPjl"
      }
    },
    {
      "cell_type": "markdown",
      "source": [
        "**Pascal's Triangle**\n",
        "at home"
      ],
      "metadata": {
        "id": "M_x819gghzYz"
      }
    },
    {
      "cell_type": "markdown",
      "source": [
        "#Follow practice steps on 'ex_0105.ipynb'\n",
        "at home"
      ],
      "metadata": {
        "id": "qsCnbz4qJVt8"
      }
    },
    {
      "cell_type": "markdown",
      "source": [
        "#Python Functions"
      ],
      "metadata": {
        "id": "tk1WH8AUJqbC"
      }
    },
    {
      "cell_type": "markdown",
      "source": [
        "##Reasons to use function:\n",
        "\n",
        "* To keep the program organized and easy to read\n",
        "* To make the code more reusable.\n",
        "* To reduce the development time.\n",
        "* To facilitate the maintenance."
      ],
      "metadata": {
        "id": "KC_u0vsvJndX"
      }
    },
    {
      "cell_type": "markdown",
      "source": [
        "##Python built-in functions: \n",
        "* They are always available.\n",
        "* The don’t need to be called in or imported.\n"
      ],
      "metadata": {
        "id": "UWOOneR-jqtA"
      }
    },
    {
      "cell_type": "markdown",
      "source": [
        "##Some of Python’s built-in functions:\n",
        "\n",
        "For a full list and detailed explanation, please go to [https://docs.python.org/3/library/functions.html](https://docs.python.org/3/library/functions.html) \n"
      ],
      "metadata": {
        "id": "AQFh-3kkkCN0"
      }
    },
    {
      "cell_type": "markdown",
      "source": [
        "* **abs(x)** : \n",
        "Return the absolute value of a number.\n"
      ],
      "metadata": {
        "id": "_SLsEVzjSsCD"
      }
    },
    {
      "cell_type": "code",
      "source": [
        "x = abs(-7.25)\n",
        "print(x)"
      ],
      "metadata": {
        "id": "z5ohaGEFVdl5"
      },
      "execution_count": null,
      "outputs": []
    },
    {
      "cell_type": "code",
      "source": [
        "x = abs(3+5j)\n",
        "print(x)"
      ],
      "metadata": {
        "id": "PNE9X3HqV2C_"
      },
      "execution_count": null,
      "outputs": []
    },
    {
      "cell_type": "markdown",
      "source": [
        "* **all(iterable )** : Return True if all elements of the iterable are true (or if the iterable is empty).\n"
      ],
      "metadata": {
        "id": "9nsPvtzRS0GV"
      }
    },
    {
      "cell_type": "code",
      "source": [
        "mylist = [True, False, True]\n",
        "x = all(mylist)\n",
        "print(x)"
      ],
      "metadata": {
        "id": "we1grWZtWdvq"
      },
      "execution_count": null,
      "outputs": []
    },
    {
      "cell_type": "code",
      "source": [
        "mylist = [\"Hi\", 1, 1]\n",
        "x = all(mylist)\n",
        "print(x)"
      ],
      "metadata": {
        "id": "7QtwigQSWnCI"
      },
      "execution_count": null,
      "outputs": []
    },
    {
      "cell_type": "code",
      "source": [
        "x = []\n",
        "print(all(x))"
      ],
      "metadata": {
        "id": "Mtvxmsjyy7ps"
      },
      "execution_count": null,
      "outputs": []
    },
    {
      "cell_type": "code",
      "source": [
        "i = [0]\n",
        "all(i)"
      ],
      "metadata": {
        "id": "35wWamtvo50A"
      },
      "execution_count": null,
      "outputs": []
    },
    {
      "cell_type": "code",
      "source": [
        "mydict = {0 : \"Apple\", 1 : \"Orange\"}\n",
        "x = all(mydict)\n",
        "print(x)"
      ],
      "metadata": {
        "id": "wmPM4M9eW1Av"
      },
      "execution_count": null,
      "outputs": []
    },
    {
      "cell_type": "markdown",
      "source": [
        "* **any(iterable )** : Return True if any element of the iterable is true. If the iterable is empty, return False. \n"
      ],
      "metadata": {
        "id": "zgiVn2jCS4E0"
      }
    },
    {
      "cell_type": "code",
      "source": [
        "mylist = [False, True, False]\n",
        "x = any(mylist)\n",
        "print(x)"
      ],
      "metadata": {
        "id": "IGjb2a-xW_b2"
      },
      "execution_count": null,
      "outputs": []
    },
    {
      "cell_type": "code",
      "source": [
        "\n",
        "mydict = {0 : \"Apple\", 1 : \"Orange\"}\n",
        "x = any(mydict)\n",
        "print(x)"
      ],
      "metadata": {
        "id": "LpMEQWsCXFfr"
      },
      "execution_count": null,
      "outputs": []
    },
    {
      "cell_type": "markdown",
      "source": [
        "* **chr(i)** : Return the string representing a character whose Unicode code point is the integer i. chr(97) returns the string 'a'. The valid range for the argument is from 0 through 1,114,111 (0x10FFFF in base 16). \n"
      ],
      "metadata": {
        "id": "_T_h2LGWS6Xl"
      }
    },
    {
      "cell_type": "code",
      "source": [
        "x = chr(20000)\n",
        "print(x)"
      ],
      "metadata": {
        "id": "9NsGsUtXXJP6"
      },
      "execution_count": null,
      "outputs": []
    },
    {
      "cell_type": "markdown",
      "source": [
        "* **dir([object])** : Without arguments, return the list of names in the current local scope. With an argument, attempt to return a list of valid attributes for that object.\n"
      ],
      "metadata": {
        "id": "6IGVtUo0S8sR"
      }
    },
    {
      "cell_type": "code",
      "source": [
        "dir(\"str\")"
      ],
      "metadata": {
        "id": "s--zBb__X44j"
      },
      "execution_count": null,
      "outputs": []
    },
    {
      "cell_type": "markdown",
      "source": [
        "* **divmod(a, b)** : Take two (non-complex) numbers as arguments and return a pair of numbers consisting of their quotient and remainder when using integer division. For integers, the result is the same as (a // b, a % b). \n"
      ],
      "metadata": {
        "id": "oxHfl5XqTAY9"
      }
    },
    {
      "cell_type": "code",
      "source": [
        "x = divmod(15, 4)\n",
        "print(x)"
      ],
      "metadata": {
        "id": "dRN6mev8YbIL"
      },
      "execution_count": null,
      "outputs": []
    },
    {
      "cell_type": "markdown",
      "source": [
        "* **enumerate(iterable, start=0)** : \n",
        "adds a counter to an iterable and returns it in a form of enumerating object.\n"
      ],
      "metadata": {
        "id": "35M1lFpzTAVi"
      }
    },
    {
      "cell_type": "code",
      "source": [
        "a=[\"Sara\",\"Mary\",\"Pedro\",\"Jorge\"]\n",
        "print(list(enumerate(a, 3)))\n"
      ],
      "metadata": {
        "id": "PZOgMb-6wAhT"
      },
      "execution_count": null,
      "outputs": []
    },
    {
      "cell_type": "code",
      "source": [
        "a, b = 5, 6\n",
        "\n",
        "print(a,b)"
      ],
      "metadata": {
        "id": "SBX6r6cO0uk-"
      },
      "execution_count": null,
      "outputs": []
    },
    {
      "cell_type": "code",
      "source": [
        "x = ('apple', 'banana', 'cherry')\n",
        "y = enumerate(x)\n",
        "print(list(y))\n",
        "\n",
        "#Why it is not showing the output ????\n",
        "for count, value in y:\n",
        "  print(count, value)"
      ],
      "metadata": {
        "id": "kho-I7XpYrSv"
      },
      "execution_count": null,
      "outputs": []
    },
    {
      "cell_type": "code",
      "source": [],
      "metadata": {
        "id": "W--YzExh10Jl"
      },
      "execution_count": null,
      "outputs": []
    },
    {
      "cell_type": "code",
      "source": [
        "x = ('apple', 'banana', 'cherry')\n",
        "y = enumerate(x, 3)\n",
        "#print(list(y))\n",
        "for count, value in y:\n",
        "    print(count, value)"
      ],
      "metadata": {
        "id": "mQFrPYuDYxS-"
      },
      "execution_count": null,
      "outputs": []
    },
    {
      "cell_type": "markdown",
      "source": [
        "* **eval(expression[, globals[, locals]])** :\n",
        "The arguments are a string and optional globals and locals. If provided, globals must be a dictionary. If provided, locals can be any mapping object. Eval parses the expression argument and evaluates it as a python expression hile using the globals and locals dictionaries as global and local namespace.\n"
      ],
      "metadata": {
        "id": "Lw1iuncnTEj_"
      }
    },
    {
      "cell_type": "code",
      "source": [
        "a = \"[1,2,3]\"\n",
        "b = eval(a)\n",
        "print(b)"
      ],
      "metadata": {
        "id": "622CLQkJEZTU"
      },
      "execution_count": null,
      "outputs": []
    },
    {
      "cell_type": "code",
      "source": [
        "z = 50\n",
        "x = 'print(z + 100)'\n",
        "eval(x)"
      ],
      "metadata": {
        "id": "suApVKhoY7l2"
      },
      "execution_count": null,
      "outputs": []
    },
    {
      "cell_type": "code",
      "source": [
        "z=50\n",
        "x = 'print(z + 100)'\n",
        "eval(x, {'z': 200})"
      ],
      "metadata": {
        "id": "TfIOivvJZEfC"
      },
      "execution_count": null,
      "outputs": []
    },
    {
      "cell_type": "markdown",
      "source": [
        "* **filter(function, iterable)** : \n",
        "filter(function, iterable)\n",
        "Construct an iterator from those elements of iterable for which function returns true. iterable may be either a sequence, a container which supports iteration, or an iterator. If function is None, the identity function is assumed, that is, all elements of iterable that are false are removed.\n",
        "Note that filter(function, iterable) is equivalent to the generator expression (item for item in iterable if function(item)) if function is not None and (item for item in iterable if item) if function is None.\n"
      ],
      "metadata": {
        "id": "iGgoYmB7TJP_"
      }
    },
    {
      "cell_type": "code",
      "source": [
        "random_list = [1, 'a', 0, False, True, '0']\n",
        "\n",
        "filtered_iterator = filter(None, random_list)\n",
        "\n",
        "#converting to list\n",
        "filtered_list = list(filtered_iterator)\n",
        "\n",
        "print(filtered_list)"
      ],
      "metadata": {
        "id": "pImz2kwyZMFg"
      },
      "execution_count": null,
      "outputs": []
    },
    {
      "cell_type": "markdown",
      "source": [
        "* **class float([x])** :\n",
        "Return a floating point number constructed from a number or string x.\n"
      ],
      "metadata": {
        "id": "Kzxpet8BTLZH"
      }
    },
    {
      "cell_type": "code",
      "source": [
        "x =  float(\"3.500\")\n",
        "print(x)"
      ],
      "metadata": {
        "id": "mBa0dRewaOJ0"
      },
      "execution_count": null,
      "outputs": []
    },
    {
      "cell_type": "code",
      "source": [
        "x =  float(36)\n",
        "print(x)"
      ],
      "metadata": {
        "id": "Yy4Q__SYaQi1"
      },
      "execution_count": null,
      "outputs": []
    },
    {
      "cell_type": "code",
      "source": [
        "x =  float(4+2j)\n",
        "print(x)"
      ],
      "metadata": {
        "id": "aruTGlZLaVH5"
      },
      "execution_count": null,
      "outputs": []
    },
    {
      "cell_type": "markdown",
      "source": [
        "* **hash(object)** : \n",
        "Return the hash value of the object (if it has one). Hash values are integers. They are used to quickly compare dictionary keys during a dictionary lookup. Numeric values that compare equal have the same hash value (even if they are of different types, as is the case for 1 and 1.0).\n"
      ],
      "metadata": {
        "id": "axr6R_OaTNc7"
      }
    },
    {
      "cell_type": "code",
      "source": [
        "# hash for integer unchanged\n",
        "print('Hash for 181 is:', hash(181))\n",
        "\n",
        "# hash for decimal\n",
        "print('Hash for 181.23 is:',hash(181.23))\n",
        "\n",
        "# hash for string\n",
        "x = 'Python'\n",
        "print('Hash for Python is:', hash('Python'))\n",
        "print('Hash for Python is:', hash(x))"
      ],
      "metadata": {
        "id": "ySfoCGbjaxgl"
      },
      "execution_count": null,
      "outputs": []
    },
    {
      "cell_type": "code",
      "source": [
        "vowels = ('a', 'e', 'i', 'o', 'u')\n",
        "\n",
        "print('The hash is:', hash(vowels))"
      ],
      "metadata": {
        "id": "ET3Bg5R_a1Q8"
      },
      "execution_count": null,
      "outputs": []
    },
    {
      "cell_type": "markdown",
      "source": [
        "* **help([object])** : \n",
        "Invoke the built-in help system. \n"
      ],
      "metadata": {
        "id": "8kGyGzjNTPXP"
      }
    },
    {
      "cell_type": "code",
      "source": [
        "help([1, 2, 5, \"aa\"])"
      ],
      "metadata": {
        "id": "o7pBcFKibRfi"
      },
      "execution_count": null,
      "outputs": []
    },
    {
      "cell_type": "code",
      "source": [
        "help(int)"
      ],
      "metadata": {
        "id": "YZUfgUm_bcKl"
      },
      "execution_count": null,
      "outputs": []
    },
    {
      "cell_type": "code",
      "source": [
        "help(print)"
      ],
      "metadata": {
        "id": "_C7mK5hVbllo"
      },
      "execution_count": null,
      "outputs": []
    },
    {
      "cell_type": "markdown",
      "source": [
        "* **hex(x)** : \n",
        "Convert an integer number to a lowercase hexadecimal string prefixed with “0x”.\n"
      ],
      "metadata": {
        "id": "_3kA66kcTRGg"
      }
    },
    {
      "cell_type": "code",
      "source": [
        "hex(-2)"
      ],
      "metadata": {
        "id": "z6bfvJIVI3SA"
      },
      "execution_count": null,
      "outputs": []
    },
    {
      "cell_type": "code",
      "source": [
        "x =  hex(2)\n",
        "print(x)"
      ],
      "metadata": {
        "id": "c1gau-Arbwva"
      },
      "execution_count": null,
      "outputs": []
    },
    {
      "cell_type": "code",
      "source": [
        "returnType = type(hex(2))\n",
        "print(returnType)\n"
      ],
      "metadata": {
        "id": "N-i1r1lHcYQM"
      },
      "execution_count": null,
      "outputs": []
    },
    {
      "cell_type": "code",
      "source": [
        "number = 2.5\n",
        "print(number, 'in hex =', float.hex(number))\n"
      ],
      "metadata": {
        "id": "yW8yCbPEb-tv"
      },
      "execution_count": null,
      "outputs": []
    },
    {
      "cell_type": "markdown",
      "source": [
        "* **id(object)** : \n",
        "Return the “identity” of an object. This is an integer which is guaranteed to be unique and constant for this object during its lifetime. Two objects with non-overlapping lifetimes may have the same id() value.\n"
      ],
      "metadata": {
        "id": "QtoNUCJdTSuY"
      }
    },
    {
      "cell_type": "code",
      "source": [
        "x =  ('apple', 'banana', 'cherry')\n",
        "y = id(x)\n",
        "print(y)"
      ],
      "metadata": {
        "id": "0yvC82_GcyTA"
      },
      "execution_count": null,
      "outputs": []
    },
    {
      "cell_type": "code",
      "source": [
        "print('id of 5 =',id(5))\n",
        "\n",
        "a = 5\n",
        "print('id of a =',id(a))\n",
        "\n",
        "b = a\n",
        "print('id of b =',id(b))\n",
        "\n",
        "c = 5.0\n",
        "print('id of c =',id(c))"
      ],
      "metadata": {
        "id": "o1GS5Widc8t4"
      },
      "execution_count": null,
      "outputs": []
    },
    {
      "cell_type": "markdown",
      "source": [
        "* **input(prompt)** : \n",
        "If the prompt argument is present, it is written to standard output without a trailing newline. The function then reads a line from input, converts it to a string (stripping a trailing newline), and returns that.\n"
      ],
      "metadata": {
        "id": "uO1wmTOwTUDR"
      }
    },
    {
      "cell_type": "code",
      "source": [
        "print('Enter your name : ')\n",
        "x = input()\n",
        "print('Hello, ' + x)"
      ],
      "metadata": {
        "id": "nX4YCBSxdLXQ"
      },
      "execution_count": null,
      "outputs": []
    },
    {
      "cell_type": "markdown",
      "source": [
        "* **int(x)** : \n",
        "Return an integer object constructed from a number or string x, or return 0 if no arguments are given.\n"
      ],
      "metadata": {
        "id": "WHx7x8VzTVMu"
      }
    },
    {
      "cell_type": "code",
      "source": [
        "x =  int(3.5)\n",
        "print(x)"
      ],
      "metadata": {
        "id": "-AFk4Dpcd09X"
      },
      "execution_count": null,
      "outputs": []
    },
    {
      "cell_type": "code",
      "source": [
        "x =  int(3)\n",
        "print(x)"
      ],
      "metadata": {
        "id": "s8BhPJZLeDSF"
      },
      "execution_count": null,
      "outputs": []
    },
    {
      "cell_type": "code",
      "source": [
        "x =  int(\"3\")\n",
        "print(x)"
      ],
      "metadata": {
        "id": "9O2t2HDBeE6w"
      },
      "execution_count": null,
      "outputs": []
    },
    {
      "cell_type": "markdown",
      "source": [
        "* **isinstance(object, classinfo)** : \n",
        "It returns True if the specified object is of the specified type, otherwise False.\n",
        "*italicized text*"
      ],
      "metadata": {
        "id": "UZ5CE4EhTWWh"
      }
    },
    {
      "cell_type": "code",
      "source": [
        "x = isinstance(5, int)\n",
        "print(x)"
      ],
      "metadata": {
        "id": "2cVEWyxPBeL4"
      },
      "execution_count": null,
      "outputs": []
    },
    {
      "cell_type": "code",
      "source": [
        "x = isinstance(\"Hello\",  (float, int, str, list, dict, tuple))\n",
        "print(x)"
      ],
      "metadata": {
        "id": "6MejTcvWCg4z"
      },
      "execution_count": null,
      "outputs": []
    },
    {
      "cell_type": "code",
      "source": [
        "numbers = [1, 2, 3, 4, 2, 5]\n",
        "result = isinstance(numbers, list)\n",
        "print(result)\n"
      ],
      "metadata": {
        "id": "i--mnx6oC3RU"
      },
      "execution_count": null,
      "outputs": []
    },
    {
      "cell_type": "code",
      "source": [
        "class myObj:\n",
        "  name = \"John\"\n",
        "\n",
        "y = myObj()\n",
        "\n",
        "print(isinstance(y, myObj))\n",
        "print(isinstance(y, (list, tuple)))\n",
        "print(isinstance(y, (list, tuple, myObj)))"
      ],
      "metadata": {
        "id": "x857UsvUCsBb"
      },
      "execution_count": null,
      "outputs": []
    },
    {
      "cell_type": "markdown",
      "source": [
        "* **lambda()** : Lambda functions are also called anonymous functions which is a function defined without a name. Lambda functions are useful as small single-line functions and often are useful to allow quick calculations or processing as the input to other functions.\n"
      ],
      "metadata": {
        "id": "75-2UgaqTXig"
      }
    },
    {
      "cell_type": "code",
      "source": [
        "MySum = lambda a,b,c : (a+b+c)*5\n",
        "\n",
        "print(MySum(1,3,5))\n",
        "print(MySum(\"a\",\"b\", \"c\"))"
      ],
      "metadata": {
        "id": "Xq6_123RF1Rl"
      },
      "execution_count": null,
      "outputs": []
    },
    {
      "cell_type": "code",
      "source": [
        "print(\"What is your name?\")\n",
        "x = input()\n",
        "print(MySum(\"Hi! \",\"This is \", x))"
      ],
      "metadata": {
        "id": "MGx85tYhGZx4"
      },
      "execution_count": null,
      "outputs": []
    },
    {
      "cell_type": "code",
      "source": [
        "A = lambda x: x*2\n",
        "\n",
        "print(A(10))"
      ],
      "metadata": {
        "id": "xUpgRMDOG2Yg"
      },
      "execution_count": null,
      "outputs": []
    },
    {
      "cell_type": "code",
      "source": [
        "for i in range(1, 10, 2):\n",
        "  print((lambda x: x ** 2)(i))"
      ],
      "metadata": {
        "id": "NZnr82s2Hf-f"
      },
      "execution_count": null,
      "outputs": []
    },
    {
      "cell_type": "code",
      "source": [
        "for i in range(9, 0, -2):\n",
        "  print((lambda x: x ** 2)(i))"
      ],
      "metadata": {
        "id": "bdn-JSi8JIyo"
      },
      "execution_count": null,
      "outputs": []
    },
    {
      "cell_type": "markdown",
      "source": [
        "* **len()** : \n",
        "Return the length (the number of items) of an object. The argument may be a sequence (such as a string, bytes, tuple, list, or range) or a collection (such as a dictionary, set, or frozen set).\n"
      ],
      "metadata": {
        "id": "G1fNNAm0TY_A"
      }
    },
    {
      "cell_type": "code",
      "source": [
        "mylist = [\"apple\", \"banana\", \"cherry\"]\n",
        "x = len(mylist)\n",
        "print(x)"
      ],
      "metadata": {
        "id": "NW1t1LFYJZPa"
      },
      "execution_count": null,
      "outputs": []
    },
    {
      "cell_type": "markdown",
      "source": [
        "* **class list(iterable)** : \n",
        "The list() function creates a list object. A list object is a collection which is ordered and changeable. \n"
      ],
      "metadata": {
        "id": "ivwGQZxJTa5d"
      }
    },
    {
      "cell_type": "code",
      "source": [
        "x =  list(('apple', 'banana', 'cherry'))\n",
        "print(x)"
      ],
      "metadata": {
        "id": "TBmksZQJJddt"
      },
      "execution_count": null,
      "outputs": []
    },
    {
      "cell_type": "markdown",
      "source": [
        "* **map(function, iterable, ...)** : \n",
        "Return an iterator that applies function to every item of iterable, yielding the results. If additional iterable arguments are passed, function must take that many arguments and is applied to the items from all iterables in parallel. \n"
      ],
      "metadata": {
        "id": "0hDF81kHTdiS"
      }
    },
    {
      "cell_type": "code",
      "source": [
        "addition = lambda n : n+n\n",
        "\n",
        "numbers = (1, 2, 3, 4)\n",
        "result = map(addition, numbers)\n",
        "print(list(result))"
      ],
      "metadata": {
        "id": "FSqhXeubLG6v"
      },
      "execution_count": null,
      "outputs": []
    },
    {
      "cell_type": "markdown",
      "source": [
        "* **max(iterable, *[, key, default])** ,\n"
      ],
      "metadata": {
        "id": "tGdWWIOnTiEL"
      }
    },
    {
      "cell_type": "markdown",
      "source": [
        "* **max(arg1, arg2, *args[, key])** : \n",
        "Return the largest item in an iterable or the largest of two or more arguments.\n"
      ],
      "metadata": {
        "id": "XSPCOQYTTkZq"
      }
    },
    {
      "cell_type": "code",
      "source": [],
      "metadata": {
        "id": "qi_vlOJ1Lx9U"
      },
      "execution_count": null,
      "outputs": []
    },
    {
      "cell_type": "markdown",
      "source": [
        "* **min(iterable, *[, key, default])** ,\n",
        "* **min(arg1, arg2, *args[, key])** : \n",
        "Return the smallest item in an iterable or the smallest of two or more arguments.\n"
      ],
      "metadata": {
        "id": "b8N7nGs0ToQO"
      }
    },
    {
      "cell_type": "markdown",
      "source": [
        "* **oct(x)** : \n",
        "Convert an integer number to an octal string prefixed with “0o”. \n"
      ],
      "metadata": {
        "id": "jMc8VXQsTqgK"
      }
    },
    {
      "cell_type": "markdown",
      "source": [
        "* **open(file, mode='r', buffering=- 1, encoding=None, errors=None, newline=None, closefd=True, opener=None)** :\n",
        "Open file and return a corresponding file object. \n",
        "\n",
        "\n",
        ">> 'r' : open for reading (default)\n",
        "\n",
        ">> 'w' : open for writing, truncating the file first\n",
        "\n",
        "> >'x' : open for exclusive creation, failing if the file already exists\n",
        "\n",
        ">> 'a' : open for writing, appending to the end of file if it exists\n",
        "\n",
        ">> 'b' : binary mode\n",
        "\n",
        ">> 't' : text mode (default)\n",
        "\n",
        ">> '+' : open for updating (reading and writing)\n",
        "\n"
      ],
      "metadata": {
        "id": "gukl73yETsgZ"
      }
    },
    {
      "cell_type": "markdown",
      "source": [
        "* **ord(c)** : \n",
        "Given a string representing one Unicode character, return an integer representing the Unicode code point of that character. For example, ord('a') returns the integer 97.\n"
      ],
      "metadata": {
        "id": "lwmOSLerUKJN"
      }
    },
    {
      "cell_type": "markdown",
      "source": [
        "\n",
        "* **pow(base, exp[, mod])** : \n",
        "Return base to the power exp; if mod is present, return base to the power exp, modulo mod (computed more efficiently than pow(base, exp) % mod). The two-argument form pow(base, exp) is equivalent to using the power operator: base**exp.\n"
      ],
      "metadata": {
        "id": "E9i6TyXFUOY_"
      }
    },
    {
      "cell_type": "markdown",
      "source": [
        "* **reversed(seq)** :\n",
        "Return a reverse iterator. \n",
        "\n"
      ],
      "metadata": {
        "id": "pd4vXM2SUX2L"
      }
    },
    {
      "cell_type": "markdown",
      "source": [
        "* **round(number[, ndigits])** :\n",
        "Return number rounded to ndigits precision after the decimal point. \n"
      ],
      "metadata": {
        "id": "GB2ztB0dUZwl"
      }
    },
    {
      "cell_type": "markdown",
      "source": [
        "* **class set([iterable])** :\n",
        "Return a new set object, optionally with elements taken from iterable. \n"
      ],
      "metadata": {
        "id": "DQ9vw6B3UbVT"
      }
    },
    {
      "cell_type": "markdown",
      "source": [
        "* **class slice(stop)** , \n",
        "* **class slice(start, stop[, step])** :\n",
        "Return a slice object representing the set of indices specified by range(start, stop, step). The start and step arguments default to None.\n"
      ],
      "metadata": {
        "id": "zvH8xlcRUdaG"
      }
    },
    {
      "cell_type": "markdown",
      "source": [
        "* **sum(iterable, /, start=0)** :\n",
        "Sums start and the items of an iterable from left to right and returns the total. The iterable’s items are normally numbers, and the start value is not allowed to be a string.\n"
      ],
      "metadata": {
        "id": "xw4VpBwVUmWn"
      }
    },
    {
      "cell_type": "markdown",
      "source": [
        "* **class type(object)** , \n",
        "* **class type(name, bases, dict, **kwds)** :\n",
        "With one argument, return the type of an object. \n"
      ],
      "metadata": {
        "id": "01qJx0LeUpXn"
      }
    }
  ]
}